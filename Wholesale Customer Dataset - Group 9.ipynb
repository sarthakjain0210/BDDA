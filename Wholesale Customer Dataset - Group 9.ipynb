{
 "cells": [
  {
   "cell_type": "markdown",
   "id": "a143e7a2",
   "metadata": {},
   "source": [
    "# Whole Sales Customer Data"
   ]
  },
  {
   "cell_type": "markdown",
   "id": "4b04a1cb",
   "metadata": {},
   "source": [
    "Submitted By: GROUP-9\n",
    "\n",
    "Anisha Siwas-025007\n",
    "\n",
    "Sarthak Jain-025029\n",
    "\n",
    "Tanya Goel-025034"
   ]
  },
  {
   "cell_type": "markdown",
   "id": "0e607be1",
   "metadata": {},
   "source": [
    "**Dataset Information:**\n",
    "The dataset refers to clients of a wholesale distributor. It includes the annual spending in monetary units (m.u.) on diverse product categories."
   ]
  },
  {
   "cell_type": "markdown",
   "id": "571775fa",
   "metadata": {},
   "source": [
    "Importing the required libraries."
   ]
  },
  {
   "cell_type": "code",
   "execution_count": 108,
   "id": "bdcae833",
   "metadata": {},
   "outputs": [],
   "source": [
    "# Data manipulation and plotting modules\n",
    "import numpy as np\n",
    "import pandas as pd\n",
    "\n",
    "\n",
    "# Data pre-processing\n",
    "from sklearn.preprocessing import StandardScaler as ss\n",
    "\n",
    "# Dimensionality reduction\n",
    "from sklearn.decomposition import PCA\n",
    "\n",
    "\n",
    "# Data splitting and model parameter search\n",
    "from sklearn.model_selection import train_test_split\n",
    "from sklearn.model_selection import GridSearchCV\n",
    "from sklearn.model_selection import RandomizedSearchCV\n",
    "\n",
    "\n",
    "# Model pipelining\n",
    "from sklearn.pipeline import Pipeline\n",
    "from sklearn.pipeline import make_pipeline\n",
    "\n",
    "\n",
    "# Model evaluation metrics\n",
    "from sklearn.metrics import accuracy_score, f1_score\n",
    "from sklearn.metrics import plot_roc_curve\n",
    "from sklearn.metrics import confusion_matrix\n",
    "\n",
    "# For plot formulation\n",
    "import matplotlib.pyplot as plt\n",
    "from xgboost import plot_importance\n",
    "\n",
    "# Needed for Bayes optimization\n",
    "# Takes an estimator, performs cross-validation\n",
    "# and gives out average score\n",
    "from sklearn.model_selection import cross_val_score"
   ]
  },
  {
   "cell_type": "markdown",
   "id": "4cd25d91",
   "metadata": {},
   "source": [
    "Reading file."
   ]
  },
  {
   "cell_type": "code",
   "execution_count": 109,
   "id": "c28f6435",
   "metadata": {},
   "outputs": [],
   "source": [
    "data = pd.read_csv(\"C:\\\\Users\\\\Anisha Siwas\\\\Downloads\\\\Wholesale customers data.csv\")"
   ]
  },
  {
   "cell_type": "markdown",
   "id": "3d1d2824",
   "metadata": {},
   "source": [
    "# Data Exploration and Cleaning"
   ]
  },
  {
   "cell_type": "markdown",
   "id": "a6b7fdcd",
   "metadata": {},
   "source": [
    "Checking first 5 rows in dataset and getting an overview of what is dataset all about and what all columns are there."
   ]
  },
  {
   "cell_type": "code",
   "execution_count": 110,
   "id": "8de71ade",
   "metadata": {
    "scrolled": true
   },
   "outputs": [
    {
     "data": {
      "text/html": [
       "<div>\n",
       "<style scoped>\n",
       "    .dataframe tbody tr th:only-of-type {\n",
       "        vertical-align: middle;\n",
       "    }\n",
       "\n",
       "    .dataframe tbody tr th {\n",
       "        vertical-align: top;\n",
       "    }\n",
       "\n",
       "    .dataframe thead th {\n",
       "        text-align: right;\n",
       "    }\n",
       "</style>\n",
       "<table border=\"1\" class=\"dataframe\">\n",
       "  <thead>\n",
       "    <tr style=\"text-align: right;\">\n",
       "      <th></th>\n",
       "      <th>Channel</th>\n",
       "      <th>Region</th>\n",
       "      <th>Fresh</th>\n",
       "      <th>Milk</th>\n",
       "      <th>Grocery</th>\n",
       "      <th>Frozen</th>\n",
       "      <th>Detergents_Paper</th>\n",
       "      <th>Delicassen</th>\n",
       "    </tr>\n",
       "  </thead>\n",
       "  <tbody>\n",
       "    <tr>\n",
       "      <th>0</th>\n",
       "      <td>2</td>\n",
       "      <td>3</td>\n",
       "      <td>12669</td>\n",
       "      <td>9656</td>\n",
       "      <td>7561</td>\n",
       "      <td>214</td>\n",
       "      <td>2674</td>\n",
       "      <td>1338</td>\n",
       "    </tr>\n",
       "    <tr>\n",
       "      <th>1</th>\n",
       "      <td>2</td>\n",
       "      <td>3</td>\n",
       "      <td>7057</td>\n",
       "      <td>9810</td>\n",
       "      <td>9568</td>\n",
       "      <td>1762</td>\n",
       "      <td>3293</td>\n",
       "      <td>1776</td>\n",
       "    </tr>\n",
       "    <tr>\n",
       "      <th>2</th>\n",
       "      <td>2</td>\n",
       "      <td>3</td>\n",
       "      <td>6353</td>\n",
       "      <td>8808</td>\n",
       "      <td>7684</td>\n",
       "      <td>2405</td>\n",
       "      <td>3516</td>\n",
       "      <td>7844</td>\n",
       "    </tr>\n",
       "    <tr>\n",
       "      <th>3</th>\n",
       "      <td>1</td>\n",
       "      <td>3</td>\n",
       "      <td>13265</td>\n",
       "      <td>1196</td>\n",
       "      <td>4221</td>\n",
       "      <td>6404</td>\n",
       "      <td>507</td>\n",
       "      <td>1788</td>\n",
       "    </tr>\n",
       "    <tr>\n",
       "      <th>4</th>\n",
       "      <td>2</td>\n",
       "      <td>3</td>\n",
       "      <td>22615</td>\n",
       "      <td>5410</td>\n",
       "      <td>7198</td>\n",
       "      <td>3915</td>\n",
       "      <td>1777</td>\n",
       "      <td>5185</td>\n",
       "    </tr>\n",
       "  </tbody>\n",
       "</table>\n",
       "</div>"
      ],
      "text/plain": [
       "   Channel  Region  Fresh  Milk  Grocery  Frozen  Detergents_Paper  Delicassen\n",
       "0        2       3  12669  9656     7561     214              2674        1338\n",
       "1        2       3   7057  9810     9568    1762              3293        1776\n",
       "2        2       3   6353  8808     7684    2405              3516        7844\n",
       "3        1       3  13265  1196     4221    6404               507        1788\n",
       "4        2       3  22615  5410     7198    3915              1777        5185"
      ]
     },
     "execution_count": 110,
     "metadata": {},
     "output_type": "execute_result"
    }
   ],
   "source": [
    "data.head()"
   ]
  },
  {
   "cell_type": "markdown",
   "id": "45133639",
   "metadata": {},
   "source": [
    "Checking basic information about dataset like: columns, null values and datatypes. "
   ]
  },
  {
   "cell_type": "code",
   "execution_count": 111,
   "id": "3729e6ab",
   "metadata": {},
   "outputs": [
    {
     "name": "stdout",
     "output_type": "stream",
     "text": [
      "<class 'pandas.core.frame.DataFrame'>\n",
      "RangeIndex: 440 entries, 0 to 439\n",
      "Data columns (total 8 columns):\n",
      " #   Column            Non-Null Count  Dtype\n",
      "---  ------            --------------  -----\n",
      " 0   Channel           440 non-null    int64\n",
      " 1   Region            440 non-null    int64\n",
      " 2   Fresh             440 non-null    int64\n",
      " 3   Milk              440 non-null    int64\n",
      " 4   Grocery           440 non-null    int64\n",
      " 5   Frozen            440 non-null    int64\n",
      " 6   Detergents_Paper  440 non-null    int64\n",
      " 7   Delicassen        440 non-null    int64\n",
      "dtypes: int64(8)\n",
      "memory usage: 27.6 KB\n"
     ]
    }
   ],
   "source": [
    "data.info()"
   ]
  },
  {
   "cell_type": "markdown",
   "id": "a13a0ec5",
   "metadata": {},
   "source": [
    "Describing the dataset. Calculating mean, standard deviation  etc. for each column."
   ]
  },
  {
   "cell_type": "code",
   "execution_count": 112,
   "id": "e4ea8f18",
   "metadata": {},
   "outputs": [
    {
     "data": {
      "text/html": [
       "<div>\n",
       "<style scoped>\n",
       "    .dataframe tbody tr th:only-of-type {\n",
       "        vertical-align: middle;\n",
       "    }\n",
       "\n",
       "    .dataframe tbody tr th {\n",
       "        vertical-align: top;\n",
       "    }\n",
       "\n",
       "    .dataframe thead th {\n",
       "        text-align: right;\n",
       "    }\n",
       "</style>\n",
       "<table border=\"1\" class=\"dataframe\">\n",
       "  <thead>\n",
       "    <tr style=\"text-align: right;\">\n",
       "      <th></th>\n",
       "      <th>Channel</th>\n",
       "      <th>Region</th>\n",
       "      <th>Fresh</th>\n",
       "      <th>Milk</th>\n",
       "      <th>Grocery</th>\n",
       "      <th>Frozen</th>\n",
       "      <th>Detergents_Paper</th>\n",
       "      <th>Delicassen</th>\n",
       "    </tr>\n",
       "  </thead>\n",
       "  <tbody>\n",
       "    <tr>\n",
       "      <th>count</th>\n",
       "      <td>440.000000</td>\n",
       "      <td>440.000000</td>\n",
       "      <td>440.000000</td>\n",
       "      <td>440.000000</td>\n",
       "      <td>440.000000</td>\n",
       "      <td>440.000000</td>\n",
       "      <td>440.000000</td>\n",
       "      <td>440.000000</td>\n",
       "    </tr>\n",
       "    <tr>\n",
       "      <th>mean</th>\n",
       "      <td>1.322727</td>\n",
       "      <td>2.543182</td>\n",
       "      <td>12000.297727</td>\n",
       "      <td>5796.265909</td>\n",
       "      <td>7951.277273</td>\n",
       "      <td>3071.931818</td>\n",
       "      <td>2881.493182</td>\n",
       "      <td>1524.870455</td>\n",
       "    </tr>\n",
       "    <tr>\n",
       "      <th>std</th>\n",
       "      <td>0.468052</td>\n",
       "      <td>0.774272</td>\n",
       "      <td>12647.328865</td>\n",
       "      <td>7380.377175</td>\n",
       "      <td>9503.162829</td>\n",
       "      <td>4854.673333</td>\n",
       "      <td>4767.854448</td>\n",
       "      <td>2820.105937</td>\n",
       "    </tr>\n",
       "    <tr>\n",
       "      <th>min</th>\n",
       "      <td>1.000000</td>\n",
       "      <td>1.000000</td>\n",
       "      <td>3.000000</td>\n",
       "      <td>55.000000</td>\n",
       "      <td>3.000000</td>\n",
       "      <td>25.000000</td>\n",
       "      <td>3.000000</td>\n",
       "      <td>3.000000</td>\n",
       "    </tr>\n",
       "    <tr>\n",
       "      <th>25%</th>\n",
       "      <td>1.000000</td>\n",
       "      <td>2.000000</td>\n",
       "      <td>3127.750000</td>\n",
       "      <td>1533.000000</td>\n",
       "      <td>2153.000000</td>\n",
       "      <td>742.250000</td>\n",
       "      <td>256.750000</td>\n",
       "      <td>408.250000</td>\n",
       "    </tr>\n",
       "    <tr>\n",
       "      <th>50%</th>\n",
       "      <td>1.000000</td>\n",
       "      <td>3.000000</td>\n",
       "      <td>8504.000000</td>\n",
       "      <td>3627.000000</td>\n",
       "      <td>4755.500000</td>\n",
       "      <td>1526.000000</td>\n",
       "      <td>816.500000</td>\n",
       "      <td>965.500000</td>\n",
       "    </tr>\n",
       "    <tr>\n",
       "      <th>75%</th>\n",
       "      <td>2.000000</td>\n",
       "      <td>3.000000</td>\n",
       "      <td>16933.750000</td>\n",
       "      <td>7190.250000</td>\n",
       "      <td>10655.750000</td>\n",
       "      <td>3554.250000</td>\n",
       "      <td>3922.000000</td>\n",
       "      <td>1820.250000</td>\n",
       "    </tr>\n",
       "    <tr>\n",
       "      <th>max</th>\n",
       "      <td>2.000000</td>\n",
       "      <td>3.000000</td>\n",
       "      <td>112151.000000</td>\n",
       "      <td>73498.000000</td>\n",
       "      <td>92780.000000</td>\n",
       "      <td>60869.000000</td>\n",
       "      <td>40827.000000</td>\n",
       "      <td>47943.000000</td>\n",
       "    </tr>\n",
       "  </tbody>\n",
       "</table>\n",
       "</div>"
      ],
      "text/plain": [
       "          Channel      Region          Fresh          Milk       Grocery  \\\n",
       "count  440.000000  440.000000     440.000000    440.000000    440.000000   \n",
       "mean     1.322727    2.543182   12000.297727   5796.265909   7951.277273   \n",
       "std      0.468052    0.774272   12647.328865   7380.377175   9503.162829   \n",
       "min      1.000000    1.000000       3.000000     55.000000      3.000000   \n",
       "25%      1.000000    2.000000    3127.750000   1533.000000   2153.000000   \n",
       "50%      1.000000    3.000000    8504.000000   3627.000000   4755.500000   \n",
       "75%      2.000000    3.000000   16933.750000   7190.250000  10655.750000   \n",
       "max      2.000000    3.000000  112151.000000  73498.000000  92780.000000   \n",
       "\n",
       "             Frozen  Detergents_Paper    Delicassen  \n",
       "count    440.000000        440.000000    440.000000  \n",
       "mean    3071.931818       2881.493182   1524.870455  \n",
       "std     4854.673333       4767.854448   2820.105937  \n",
       "min       25.000000          3.000000      3.000000  \n",
       "25%      742.250000        256.750000    408.250000  \n",
       "50%     1526.000000        816.500000    965.500000  \n",
       "75%     3554.250000       3922.000000   1820.250000  \n",
       "max    60869.000000      40827.000000  47943.000000  "
      ]
     },
     "execution_count": 112,
     "metadata": {},
     "output_type": "execute_result"
    }
   ],
   "source": [
    "data.describe()"
   ]
  },
  {
   "cell_type": "code",
   "execution_count": 113,
   "id": "f270aede",
   "metadata": {},
   "outputs": [
    {
     "data": {
      "text/plain": [
       "(440, 8)"
      ]
     },
     "execution_count": 113,
     "metadata": {},
     "output_type": "execute_result"
    }
   ],
   "source": [
    "data.shape"
   ]
  },
  {
   "cell_type": "markdown",
   "id": "36e42e65",
   "metadata": {},
   "source": [
    "Checked for shape of dataset. This dataset contains 440 rows and 8 columns."
   ]
  },
  {
   "cell_type": "code",
   "execution_count": 114,
   "id": "a5017035",
   "metadata": {},
   "outputs": [
    {
     "data": {
      "text/plain": [
       "Index(['Channel', 'Region', 'Fresh', 'Milk', 'Grocery', 'Frozen',\n",
       "       'Detergents_Paper', 'Delicassen'],\n",
       "      dtype='object')"
      ]
     },
     "execution_count": 114,
     "metadata": {},
     "output_type": "execute_result"
    }
   ],
   "source": [
    "data.columns"
   ]
  },
  {
   "cell_type": "markdown",
   "id": "1e975a07",
   "metadata": {},
   "source": [
    "Checked for all the features/column names of dataset."
   ]
  },
  {
   "cell_type": "markdown",
   "id": "d07bf809",
   "metadata": {},
   "source": [
    "Now checking wheather dataset is balanced or not. Classes are not unbalanced"
   ]
  },
  {
   "cell_type": "code",
   "execution_count": 115,
   "id": "e490c46f",
   "metadata": {},
   "outputs": [
    {
     "data": {
      "text/plain": [
       "1    298\n",
       "2    142\n",
       "Name: Channel, dtype: int64"
      ]
     },
     "execution_count": 115,
     "metadata": {},
     "output_type": "execute_result"
    }
   ],
   "source": [
    "data.Channel.value_counts()"
   ]
  },
  {
   "cell_type": "markdown",
   "id": "32b3c24a",
   "metadata": {},
   "source": [
    "Checking for data types of each feature."
   ]
  },
  {
   "cell_type": "code",
   "execution_count": 116,
   "id": "a5223758",
   "metadata": {},
   "outputs": [
    {
     "data": {
      "text/plain": [
       "Channel             int64\n",
       "Region              int64\n",
       "Fresh               int64\n",
       "Milk                int64\n",
       "Grocery             int64\n",
       "Frozen              int64\n",
       "Detergents_Paper    int64\n",
       "Delicassen          int64\n",
       "dtype: object"
      ]
     },
     "execution_count": 116,
     "metadata": {},
     "output_type": "execute_result"
    }
   ],
   "source": [
    "data.dtypes"
   ]
  },
  {
   "cell_type": "markdown",
   "id": "60a826ab",
   "metadata": {},
   "source": [
    "Checking for null values. There are no null values."
   ]
  },
  {
   "cell_type": "code",
   "execution_count": 117,
   "id": "b1913c5b",
   "metadata": {
    "scrolled": true
   },
   "outputs": [
    {
     "data": {
      "text/plain": [
       "Channel             0\n",
       "Region              0\n",
       "Fresh               0\n",
       "Milk                0\n",
       "Grocery             0\n",
       "Frozen              0\n",
       "Detergents_Paper    0\n",
       "Delicassen          0\n",
       "dtype: int64"
      ]
     },
     "execution_count": 117,
     "metadata": {},
     "output_type": "execute_result"
    }
   ],
   "source": [
    "data.isna().sum()"
   ]
  },
  {
   "cell_type": "markdown",
   "id": "fd0df2f1",
   "metadata": {},
   "source": [
    "Checking how many unique values are there in each column."
   ]
  },
  {
   "cell_type": "code",
   "execution_count": 118,
   "id": "6c0259a2",
   "metadata": {},
   "outputs": [
    {
     "data": {
      "text/plain": [
       "Channel               2\n",
       "Region                3\n",
       "Fresh               433\n",
       "Milk                421\n",
       "Grocery             430\n",
       "Frozen              426\n",
       "Detergents_Paper    417\n",
       "Delicassen          403\n",
       "dtype: int64"
      ]
     },
     "execution_count": 118,
     "metadata": {},
     "output_type": "execute_result"
    }
   ],
   "source": [
    "data.nunique()"
   ]
  },
  {
   "cell_type": "markdown",
   "id": "7b7af0ce",
   "metadata": {},
   "source": [
    "# Data Visualization"
   ]
  },
  {
   "cell_type": "code",
   "execution_count": 119,
   "id": "7ab45b1e",
   "metadata": {},
   "outputs": [
    {
     "data": {
      "text/plain": [
       "1    298\n",
       "2    142\n",
       "Name: Channel, dtype: int64"
      ]
     },
     "execution_count": 119,
     "metadata": {},
     "output_type": "execute_result"
    }
   ],
   "source": [
    "data.Channel.value_counts()"
   ]
  },
  {
   "cell_type": "markdown",
   "id": "151acfae",
   "metadata": {},
   "source": [
    "Checking count for each channel in order to know how many wholesale customers used which channel and which channel is used more. It can be seen that channel 1 is used more as compared to channel 2."
   ]
  },
  {
   "cell_type": "code",
   "execution_count": 120,
   "id": "3162f962",
   "metadata": {},
   "outputs": [
    {
     "data": {
      "image/png": "[encoded data removed]",
      "text/plain": [
       "<Figure size 432x288 with 1 Axes>"
      ]
     },
     "metadata": {
      "needs_background": "light"
     },
     "output_type": "display_data"
    }
   ],
   "source": [
    "import seaborn as sns\n",
    "ax=sns.countplot(x='Channel',data=data);"
   ]
  },
  {
   "cell_type": "code",
   "execution_count": 121,
   "id": "ce451a0b",
   "metadata": {},
   "outputs": [
    {
     "data": {
      "image/png": "[encoded data removed]",
      "text/plain": [
       "<Figure size 432x288 with 1 Axes>"
      ]
     },
     "metadata": {
      "needs_background": "light"
     },
     "output_type": "display_data"
    }
   ],
   "source": [
    "ax= plt.axes()\n",
    "_=sns.heatmap(data.drop(columns=['Region']).corr(),cmap='Blues',cbar=None,ax=ax)\n",
    "_=ax.set_title('Correlation Heatmap')"
   ]
  },
  {
   "cell_type": "markdown",
   "id": "aa6f8e23",
   "metadata": {},
   "source": [
    "Checking for outliers in Fresh column for both the channels. And it can be easily inferred from the box plot that outliers exists for both the channel. "
   ]
  },
  {
   "cell_type": "code",
   "execution_count": 122,
   "id": "f09e9a77",
   "metadata": {},
   "outputs": [
    {
     "data": {
      "text/plain": [
       "<AxesSubplot:xlabel='Channel', ylabel='Fresh'>"
      ]
     },
     "execution_count": 122,
     "metadata": {},
     "output_type": "execute_result"
    },
    {
     "data": {
      "image/png": "[encoded data removed]",
      "text/plain": [
       "<Figure size 432x288 with 1 Axes>"
      ]
     },
     "metadata": {
      "needs_background": "light"
     },
     "output_type": "display_data"
    }
   ],
   "source": [
    "sns.boxplot(x = 'Channel',      \n",
    "            y = 'Fresh',               \n",
    "            data = data\n",
    "            )"
   ]
  },
  {
   "cell_type": "markdown",
   "id": "f11f28a2",
   "metadata": {},
   "source": [
    "Checking from both the channels which region demands for most the fresh products. And it can inferred from the graph below that region 3 demands the most fresh product from channel 1 and region 1 demands the least fresh products from channel 2. Likewise we will be checking for other product categories as well."
   ]
  },
  {
   "cell_type": "code",
   "execution_count": 123,
   "id": "c1562dc5",
   "metadata": {},
   "outputs": [
    {
     "data": {
      "text/plain": [
       "<AxesSubplot:xlabel='Channel', ylabel='Fresh'>"
      ]
     },
     "execution_count": 123,
     "metadata": {},
     "output_type": "execute_result"
    },
    {
     "data": {
      "image/png": "[encoded data removed]",
      "text/plain": [
       "<Figure size 360x360 with 1 Axes>"
      ]
     },
     "metadata": {
      "needs_background": "light"
     },
     "output_type": "display_data"
    }
   ],
   "source": [
    "fig = plt.figure(figsize = (5,5))\n",
    "sns.barplot(x = 'Channel',\n",
    "            y = 'Fresh',\n",
    "            hue = 'Region',       \n",
    "            estimator = np.mean,\n",
    "            data =data)"
   ]
  },
  {
   "cell_type": "markdown",
   "id": "097c42fc",
   "metadata": {},
   "source": [
    "It can inferred from the below graph that region 3 demands the most milk product from channel 2 and region 2 demands the least milk products from channel 1."
   ]
  },
  {
   "cell_type": "code",
   "execution_count": 124,
   "id": "fe28ecbb",
   "metadata": {},
   "outputs": [
    {
     "data": {
      "text/plain": [
       "<AxesSubplot:xlabel='Channel', ylabel='Milk'>"
      ]
     },
     "execution_count": 124,
     "metadata": {},
     "output_type": "execute_result"
    },
    {
     "data": {
      "image/png": "[encoded data removed]",
      "text/plain": [
       "<Figure size 360x360 with 1 Axes>"
      ]
     },
     "metadata": {
      "needs_background": "light"
     },
     "output_type": "display_data"
    }
   ],
   "source": [
    "fig = plt.figure(figsize = (5,5))\n",
    "sns.barplot(x = 'Channel',\n",
    "            y = 'Milk',\n",
    "            hue = 'Region',       \n",
    "            estimator = np.mean,\n",
    "            data =data)"
   ]
  },
  {
   "cell_type": "markdown",
   "id": "e86aec4f",
   "metadata": {},
   "source": [
    "It can inferred from the below graph that region 1 demands the most grocery product from channel 2 and region 1 & 3 demands the least grocery products from channel 1."
   ]
  },
  {
   "cell_type": "code",
   "execution_count": 125,
   "id": "5147b7da",
   "metadata": {},
   "outputs": [
    {
     "data": {
      "text/plain": [
       "<AxesSubplot:xlabel='Channel', ylabel='Grocery'>"
      ]
     },
     "execution_count": 125,
     "metadata": {},
     "output_type": "execute_result"
    },
    {
     "data": {
      "image/png": "[encoded data removed]",
      "text/plain": [
       "<Figure size 360x360 with 1 Axes>"
      ]
     },
     "metadata": {
      "needs_background": "light"
     },
     "output_type": "display_data"
    }
   ],
   "source": [
    "fig = plt.figure(figsize = (5,5))\n",
    "sns.barplot(x = 'Channel',\n",
    "            y = 'Grocery',\n",
    "            hue = 'Region',       \n",
    "            estimator = np.mean,\n",
    "            data =data)"
   ]
  },
  {
   "cell_type": "markdown",
   "id": "2778b063",
   "metadata": {},
   "source": [
    "It can inferred from the below graph that region 2 demands the most frozen product from channel 1 and region 2 & 3 demands the least frozen products from channel 2."
   ]
  },
  {
   "cell_type": "code",
   "execution_count": 126,
   "id": "8a246208",
   "metadata": {},
   "outputs": [
    {
     "data": {
      "text/plain": [
       "<AxesSubplot:xlabel='Channel', ylabel='Frozen'>"
      ]
     },
     "execution_count": 126,
     "metadata": {},
     "output_type": "execute_result"
    },
    {
     "data": {
      "image/png": "[encoded data removed]",
      "text/plain": [
       "<Figure size 360x360 with 1 Axes>"
      ]
     },
     "metadata": {
      "needs_background": "light"
     },
     "output_type": "display_data"
    }
   ],
   "source": [
    "fig = plt.figure(figsize = (5,5))\n",
    "sns.barplot(x = 'Channel',\n",
    "            y = 'Frozen',\n",
    "            hue = 'Region',       \n",
    "            estimator = np.mean,\n",
    "            data =data)"
   ]
  },
  {
   "cell_type": "markdown",
   "id": "6941af86",
   "metadata": {},
   "source": [
    "It can inferred from the below graph that region 2 demands the most detergent paper products from channel 2 and region 2 demands the least detergent paper products from channel 1."
   ]
  },
  {
   "cell_type": "code",
   "execution_count": 127,
   "id": "cf515bed",
   "metadata": {},
   "outputs": [
    {
     "data": {
      "text/plain": [
       "<AxesSubplot:xlabel='Channel', ylabel='Detergents_Paper'>"
      ]
     },
     "execution_count": 127,
     "metadata": {},
     "output_type": "execute_result"
    },
    {
     "data": {
      "image/png": "[encoded data removed]",
      "text/plain": [
       "<Figure size 360x360 with 1 Axes>"
      ]
     },
     "metadata": {
      "needs_background": "light"
     },
     "output_type": "display_data"
    }
   ],
   "source": [
    "fig = plt.figure(figsize = (5,5))\n",
    "sns.barplot(x = 'Channel',\n",
    "            y = 'Detergents_Paper',\n",
    "            hue = 'Region',       \n",
    "            estimator = np.mean,\n",
    "            data =data)"
   ]
  },
  {
   "cell_type": "markdown",
   "id": "7fc79a04",
   "metadata": {},
   "source": [
    "It can inferred from the below graph that region 1 demands the most delicassen product from channel 2 and region 2 demands the least delicassen products from channel 1."
   ]
  },
  {
   "cell_type": "code",
   "execution_count": 128,
   "id": "9bf43166",
   "metadata": {},
   "outputs": [
    {
     "data": {
      "text/plain": [
       "<AxesSubplot:xlabel='Channel', ylabel='Delicassen'>"
      ]
     },
     "execution_count": 128,
     "metadata": {},
     "output_type": "execute_result"
    },
    {
     "data": {
      "image/png": "[encoded data removed]",
      "text/plain": [
       "<Figure size 360x360 with 1 Axes>"
      ]
     },
     "metadata": {
      "needs_background": "light"
     },
     "output_type": "display_data"
    }
   ],
   "source": [
    "fig = plt.figure(figsize = (5,5))\n",
    "sns.barplot(x = 'Channel',\n",
    "            y = 'Delicassen',\n",
    "            hue = 'Region',       \n",
    "            estimator = np.mean,\n",
    "            data =data)"
   ]
  },
  {
   "cell_type": "markdown",
   "id": "ed914cca",
   "metadata": {},
   "source": [
    "**After doing the visulaization it can be concluded that though the number of times a channel has been used is more for channel 1 but after seeing all other boxplots and barplots for all the features the mean amount was higher for channel 1 only in case of fresh and frozen products apart from these two all other products like grocery, detergent paper and delicassen, the mean amount was higher for channel 2.**"
   ]
  },
  {
   "cell_type": "markdown",
   "id": "afcccf15",
   "metadata": {},
   "source": [
    "# Feature engineering--creating new features"
   ]
  },
  {
   "cell_type": "markdown",
   "id": "658f4bee",
   "metadata": {},
   "source": [
    "we will be creating perishable and non perishable products features."
   ]
  },
  {
   "cell_type": "markdown",
   "id": "71fea73e",
   "metadata": {},
   "source": [
    "**wheather most of the medium ranged sellers are thorugh channel 1 or 2... for this add label for each column... we can do this for perishable and non perishable columns**"
   ]
  },
  {
   "cell_type": "markdown",
   "id": "e0747397",
   "metadata": {},
   "source": [
    "Creating a new column named as Perishable_Products which is sum of all the persihable items that particular sale has."
   ]
  },
  {
   "cell_type": "code",
   "execution_count": 132,
   "id": "505e6e0e",
   "metadata": {},
   "outputs": [],
   "source": [
    "data['Perishable_Products'] = data['Fresh'] + data['Milk'] + data['Delicassen']"
   ]
  },
  {
   "cell_type": "markdown",
   "id": "d80c85c1",
   "metadata": {},
   "source": [
    "Creating a new column named as Non_Perishable_Products which is sum of all the non persihable items that particular sale has."
   ]
  },
  {
   "cell_type": "code",
   "execution_count": 133,
   "id": "1e00f981",
   "metadata": {},
   "outputs": [],
   "source": [
    "data['Non_Perishable_Products'] = data['Grocery'] + data['Detergents_Paper'] + data['Frozen']"
   ]
  },
  {
   "cell_type": "markdown",
   "id": "4e94164b",
   "metadata": {},
   "source": [
    "Checking new columns in our dataset."
   ]
  },
  {
   "cell_type": "code",
   "execution_count": 134,
   "id": "fc1af13a",
   "metadata": {},
   "outputs": [
    {
     "data": {
      "text/html": [
       "<div>\n",
       "<style scoped>\n",
       "    .dataframe tbody tr th:only-of-type {\n",
       "        vertical-align: middle;\n",
       "    }\n",
       "\n",
       "    .dataframe tbody tr th {\n",
       "        vertical-align: top;\n",
       "    }\n",
       "\n",
       "    .dataframe thead th {\n",
       "        text-align: right;\n",
       "    }\n",
       "</style>\n",
       "<table border=\"1\" class=\"dataframe\">\n",
       "  <thead>\n",
       "    <tr style=\"text-align: right;\">\n",
       "      <th></th>\n",
       "      <th>Channel</th>\n",
       "      <th>Region</th>\n",
       "      <th>Fresh</th>\n",
       "      <th>Milk</th>\n",
       "      <th>Grocery</th>\n",
       "      <th>Frozen</th>\n",
       "      <th>Detergents_Paper</th>\n",
       "      <th>Delicassen</th>\n",
       "      <th>Perishable_Products</th>\n",
       "      <th>Non_Perishable_Products</th>\n",
       "    </tr>\n",
       "  </thead>\n",
       "  <tbody>\n",
       "    <tr>\n",
       "      <th>0</th>\n",
       "      <td>2</td>\n",
       "      <td>3</td>\n",
       "      <td>12669</td>\n",
       "      <td>9656</td>\n",
       "      <td>7561</td>\n",
       "      <td>214</td>\n",
       "      <td>2674</td>\n",
       "      <td>1338</td>\n",
       "      <td>23663</td>\n",
       "      <td>10449</td>\n",
       "    </tr>\n",
       "    <tr>\n",
       "      <th>1</th>\n",
       "      <td>2</td>\n",
       "      <td>3</td>\n",
       "      <td>7057</td>\n",
       "      <td>9810</td>\n",
       "      <td>9568</td>\n",
       "      <td>1762</td>\n",
       "      <td>3293</td>\n",
       "      <td>1776</td>\n",
       "      <td>18643</td>\n",
       "      <td>14623</td>\n",
       "    </tr>\n",
       "    <tr>\n",
       "      <th>2</th>\n",
       "      <td>2</td>\n",
       "      <td>3</td>\n",
       "      <td>6353</td>\n",
       "      <td>8808</td>\n",
       "      <td>7684</td>\n",
       "      <td>2405</td>\n",
       "      <td>3516</td>\n",
       "      <td>7844</td>\n",
       "      <td>23005</td>\n",
       "      <td>13605</td>\n",
       "    </tr>\n",
       "    <tr>\n",
       "      <th>3</th>\n",
       "      <td>1</td>\n",
       "      <td>3</td>\n",
       "      <td>13265</td>\n",
       "      <td>1196</td>\n",
       "      <td>4221</td>\n",
       "      <td>6404</td>\n",
       "      <td>507</td>\n",
       "      <td>1788</td>\n",
       "      <td>16249</td>\n",
       "      <td>11132</td>\n",
       "    </tr>\n",
       "    <tr>\n",
       "      <th>4</th>\n",
       "      <td>2</td>\n",
       "      <td>3</td>\n",
       "      <td>22615</td>\n",
       "      <td>5410</td>\n",
       "      <td>7198</td>\n",
       "      <td>3915</td>\n",
       "      <td>1777</td>\n",
       "      <td>5185</td>\n",
       "      <td>33210</td>\n",
       "      <td>12890</td>\n",
       "    </tr>\n",
       "  </tbody>\n",
       "</table>\n",
       "</div>"
      ],
      "text/plain": [
       "   Channel  Region  Fresh  Milk  Grocery  Frozen  Detergents_Paper  \\\n",
       "0        2       3  12669  9656     7561     214              2674   \n",
       "1        2       3   7057  9810     9568    1762              3293   \n",
       "2        2       3   6353  8808     7684    2405              3516   \n",
       "3        1       3  13265  1196     4221    6404               507   \n",
       "4        2       3  22615  5410     7198    3915              1777   \n",
       "\n",
       "   Delicassen  Perishable_Products  Non_Perishable_Products  \n",
       "0        1338                23663                    10449  \n",
       "1        1776                18643                    14623  \n",
       "2        7844                23005                    13605  \n",
       "3        1788                16249                    11132  \n",
       "4        5185                33210                    12890  "
      ]
     },
     "execution_count": 134,
     "metadata": {},
     "output_type": "execute_result"
    }
   ],
   "source": [
    "data.head()"
   ]
  },
  {
   "cell_type": "markdown",
   "id": "0f2d6ca0",
   "metadata": {},
   "source": [
    "Checking from both the channels which region demands for most the perishable products.It can be easily inferred from the bar plot nelow that perishable products are supplied in equaly amount from both the channels and region 3 has highest demand for perishable products from channel 2."
   ]
  },
  {
   "cell_type": "code",
   "execution_count": 153,
   "id": "b238f8aa",
   "metadata": {},
   "outputs": [
    {
     "data": {
      "text/plain": [
       "<AxesSubplot:xlabel='Channel', ylabel='Perishable_Products'>"
      ]
     },
     "execution_count": 153,
     "metadata": {},
     "output_type": "execute_result"
    },
    {
     "data": {
      "image/png": "[encoded data removed]",
      "text/plain": [
       "<Figure size 360x360 with 1 Axes>"
      ]
     },
     "metadata": {
      "needs_background": "light"
     },
     "output_type": "display_data"
    }
   ],
   "source": [
    "fig = plt.figure(figsize = (5,5))\n",
    "sns.barplot(x = 'Channel',\n",
    "            y = 'Perishable_Products',\n",
    "            hue = 'Region',       \n",
    "            estimator = np.mean,\n",
    "            data =data)"
   ]
  },
  {
   "cell_type": "markdown",
   "id": "83a6d271",
   "metadata": {},
   "source": [
    "Checking from both the channels which region demands for most the perishable products. An interesting thing which we found through this visualization is that there is huge gap in sale through both channels when it comes to non perishable products. Sale of non perishable products from channel 2 is nearly three times of sale of non perishable products from channel 1. "
   ]
  },
  {
   "cell_type": "code",
   "execution_count": 154,
   "id": "32a030ce",
   "metadata": {},
   "outputs": [
    {
     "data": {
      "text/plain": [
       "<AxesSubplot:xlabel='Channel', ylabel='Non_Perishable_Products'>"
      ]
     },
     "execution_count": 154,
     "metadata": {},
     "output_type": "execute_result"
    },
    {
     "data": {
      "image/png": "[encoded data removed]",
      "text/plain": [
       "<Figure size 360x360 with 1 Axes>"
      ]
     },
     "metadata": {
      "needs_background": "light"
     },
     "output_type": "display_data"
    }
   ],
   "source": [
    "fig = plt.figure(figsize = (5,5))\n",
    "sns.barplot(x = 'Channel',\n",
    "            y = 'Non_Perishable_Products',\n",
    "            hue = 'Region',       \n",
    "            estimator = np.mean,\n",
    "            data =data)"
   ]
  },
  {
   "cell_type": "markdown",
   "id": "d5011a30",
   "metadata": {},
   "source": [
    "Now dividing data in perishable products feature into bins using qcut. Here we are using qcut in order to have equal count of data in all the three bins named l=low range sale, m=mid range sale and h=high range sale. We have shown how dividing data through cut divide the data unequally."
   ]
  },
  {
   "cell_type": "code",
   "execution_count": 173,
   "id": "ff1bf49e",
   "metadata": {},
   "outputs": [],
   "source": [
    "data[\"Perishable_Products_Cat\"] = pd.cut(\n",
    "                               data['Perishable_Products'],\n",
    "                               bins = 3,\n",
    "                               labels= [\"l\", \"m\", \"h\"]\n",
    "                               )"
   ]
  },
  {
   "cell_type": "code",
   "execution_count": 174,
   "id": "1453828f",
   "metadata": {},
   "outputs": [
    {
     "data": {
      "text/plain": [
       "l    422\n",
       "m     15\n",
       "h      3\n",
       "Name: Perishable_Products_Cat, dtype: int64"
      ]
     },
     "execution_count": 174,
     "metadata": {},
     "output_type": "execute_result"
    }
   ],
   "source": [
    "data.Perishable_Products_Cat.value_counts()"
   ]
  },
  {
   "cell_type": "markdown",
   "id": "c79c14da",
   "metadata": {},
   "source": [
    "From the graph below it can analyzed that all the high ranged sale for perishable products takes place in region 3 only when cut is used to divide data in bins."
   ]
  },
  {
   "cell_type": "code",
   "execution_count": 176,
   "id": "5f9e9c02",
   "metadata": {},
   "outputs": [
    {
     "data": {
      "text/plain": [
       "<AxesSubplot:xlabel='Channel', ylabel='Perishable_Products_Cat'>"
      ]
     },
     "execution_count": 176,
     "metadata": {},
     "output_type": "execute_result"
    },
    {
     "data": {
      "image/png": "[encoded data removed]",
      "text/plain": [
       "<Figure size 360x360 with 1 Axes>"
      ]
     },
     "metadata": {
      "needs_background": "light"
     },
     "output_type": "display_data"
    }
   ],
   "source": [
    "fig = plt.figure(figsize = (5,5))\n",
    "sns.barplot(x = 'Channel',\n",
    "            y = 'Perishable_Products_Cat',\n",
    "            hue = 'Region',       \n",
    "            estimator = np.mean,\n",
    "            data =data)"
   ]
  },
  {
   "cell_type": "markdown",
   "id": "110a7ce3",
   "metadata": {},
   "source": [
    "As we can see that cut have divide the data unequally now using qcut instead."
   ]
  },
  {
   "cell_type": "code",
   "execution_count": 177,
   "id": "30f03014",
   "metadata": {},
   "outputs": [],
   "source": [
    "data[\"Perishable_Products_Cat\"] = pd.qcut(\n",
    "                               data['Perishable_Products'],\n",
    "                               q = 3,\n",
    "                               labels= [\"l\", \"m\", \"h\"]\n",
    "                               )"
   ]
  },
  {
   "cell_type": "code",
   "execution_count": 178,
   "id": "6108777b",
   "metadata": {},
   "outputs": [
    {
     "data": {
      "text/plain": [
       "l    147\n",
       "h    147\n",
       "m    146\n",
       "Name: Perishable_Products_Cat, dtype: int64"
      ]
     },
     "execution_count": 178,
     "metadata": {},
     "output_type": "execute_result"
    }
   ],
   "source": [
    "data.Perishable_Products_Cat.value_counts()"
   ]
  },
  {
   "cell_type": "markdown",
   "id": "b19cd292",
   "metadata": {},
   "source": [
    "Now we can see that after qcut the data is divided into bins equally."
   ]
  },
  {
   "cell_type": "code",
   "execution_count": 180,
   "id": "3bec87a2",
   "metadata": {},
   "outputs": [
    {
     "data": {
      "text/plain": [
       "<AxesSubplot:xlabel='Channel', ylabel='Perishable_Products_Cat'>"
      ]
     },
     "execution_count": 180,
     "metadata": {},
     "output_type": "execute_result"
    },
    {
     "data": {
      "image/png": "[encoded data removed]",
      "text/plain": [
       "<Figure size 360x360 with 1 Axes>"
      ]
     },
     "metadata": {
      "needs_background": "light"
     },
     "output_type": "display_data"
    }
   ],
   "source": [
    "fig = plt.figure(figsize = (5,5))\n",
    "sns.barplot(x = 'Channel',\n",
    "            y = 'Perishable_Products_Cat',\n",
    "            hue = 'Region',       \n",
    "            estimator = np.mean,\n",
    "            data =data)"
   ]
  },
  {
   "cell_type": "code",
   "execution_count": 186,
   "id": "99c22f4f",
   "metadata": {},
   "outputs": [],
   "source": [
    "data[\"Non_Perishable_Products_Cat\"] = pd.cut(\n",
    "                               data['Non_Perishable_Products'],\n",
    "                               bins = 3,\n",
    "                               labels= [\"l\", \"m\", \"h\"]\n",
    "                               )"
   ]
  },
  {
   "cell_type": "code",
   "execution_count": 187,
   "id": "be945797",
   "metadata": {},
   "outputs": [
    {
     "data": {
      "text/plain": [
       "l    425\n",
       "m     13\n",
       "h      2\n",
       "Name: Non_Perishable_Products_Cat, dtype: int64"
      ]
     },
     "execution_count": 187,
     "metadata": {},
     "output_type": "execute_result"
    }
   ],
   "source": [
    "data.Non_Perishable_Products_Cat.value_counts()"
   ]
  },
  {
   "cell_type": "markdown",
   "id": "a730ce9c",
   "metadata": {},
   "source": [
    "From the graph below it can analyzed that all the high ranged sale for non perishable products takes place in region 2 & 3 only when cut is used to divide data in bins."
   ]
  },
  {
   "cell_type": "code",
   "execution_count": 188,
   "id": "43b2bc3e",
   "metadata": {},
   "outputs": [
    {
     "data": {
      "text/plain": [
       "<AxesSubplot:xlabel='Channel', ylabel='Non_Perishable_Products_Cat'>"
      ]
     },
     "execution_count": 188,
     "metadata": {},
     "output_type": "execute_result"
    },
    {
     "data": {
      "image/png": "[encoded data removed]",
      "text/plain": [
       "<Figure size 360x360 with 1 Axes>"
      ]
     },
     "metadata": {
      "needs_background": "light"
     },
     "output_type": "display_data"
    }
   ],
   "source": [
    "fig = plt.figure(figsize = (5,5))\n",
    "sns.barplot(x = 'Channel',\n",
    "            y = 'Non_Perishable_Products_Cat',\n",
    "            hue = 'Region',       \n",
    "            estimator = np.mean,\n",
    "            data =data)"
   ]
  },
  {
   "cell_type": "code",
   "execution_count": 189,
   "id": "b928ea1c",
   "metadata": {},
   "outputs": [],
   "source": [
    "data[\"Non_Perishable_Products_Cat\"] = pd.qcut(\n",
    "                               data['Non_Perishable_Products'],\n",
    "                               q = 3,\n",
    "                               labels= [\"l\", \"m\", \"h\"]\n",
    "                               )"
   ]
  },
  {
   "cell_type": "markdown",
   "id": "41fd1dfa",
   "metadata": {},
   "source": [
    "Now we can see that after qcut the data is divided into bins equally."
   ]
  },
  {
   "cell_type": "code",
   "execution_count": 190,
   "id": "cd4d3c14",
   "metadata": {},
   "outputs": [
    {
     "data": {
      "text/plain": [
       "<AxesSubplot:xlabel='Channel', ylabel='Non_Perishable_Products_Cat'>"
      ]
     },
     "execution_count": 190,
     "metadata": {},
     "output_type": "execute_result"
    },
    {
     "data": {
      "image/png": "[encoded data removed]",
      "text/plain": [
       "<Figure size 360x360 with 1 Axes>"
      ]
     },
     "metadata": {
      "needs_background": "light"
     },
     "output_type": "display_data"
    }
   ],
   "source": [
    "fig = plt.figure(figsize = (5,5))\n",
    "sns.barplot(x = 'Channel',\n",
    "            y = 'Non_Perishable_Products_Cat',\n",
    "            hue = 'Region',       \n",
    "            estimator = np.mean,\n",
    "            data =data)"
   ]
  },
  {
   "cell_type": "markdown",
   "id": "c66b5c6e",
   "metadata": {},
   "source": [
    "Now lets rename the columns with shorter names."
   ]
  },
  {
   "cell_type": "code",
   "execution_count": 192,
   "id": "bfea0ac6",
   "metadata": {},
   "outputs": [],
   "source": [
    "new_col_names  = {\n",
    "                 'Perishable_Products'         : 'Perishable_P',\n",
    "                 'Non_Perishable_Products'     : 'Non_Perishable_P',\n",
    "                 'Perishable_Products_Cat'     : 'PP_Cat',\n",
    "                 'Non_Perishable_Products_Cat' : 'Non_PP_Cat'\n",
    "              }"
   ]
  },
  {
   "cell_type": "code",
   "execution_count": 193,
   "id": "04ff295b",
   "metadata": {},
   "outputs": [],
   "source": [
    "data.rename(\n",
    "         columns = new_col_names,\n",
    "         inplace = True,\n",
    "         )"
   ]
  },
  {
   "cell_type": "code",
   "execution_count": 194,
   "id": "6a7e83c3",
   "metadata": {},
   "outputs": [
    {
     "data": {
      "text/html": [
       "<div>\n",
       "<style scoped>\n",
       "    .dataframe tbody tr th:only-of-type {\n",
       "        vertical-align: middle;\n",
       "    }\n",
       "\n",
       "    .dataframe tbody tr th {\n",
       "        vertical-align: top;\n",
       "    }\n",
       "\n",
       "    .dataframe thead th {\n",
       "        text-align: right;\n",
       "    }\n",
       "</style>\n",
       "<table border=\"1\" class=\"dataframe\">\n",
       "  <thead>\n",
       "    <tr style=\"text-align: right;\">\n",
       "      <th></th>\n",
       "      <th>Channel</th>\n",
       "      <th>Region</th>\n",
       "      <th>Fresh</th>\n",
       "      <th>Milk</th>\n",
       "      <th>Grocery</th>\n",
       "      <th>Frozen</th>\n",
       "      <th>Detergents_Paper</th>\n",
       "      <th>Delicassen</th>\n",
       "      <th>Perishable_P</th>\n",
       "      <th>Non_Perishable_P</th>\n",
       "      <th>PP_Cat</th>\n",
       "      <th>Non_PP_Cat</th>\n",
       "    </tr>\n",
       "  </thead>\n",
       "  <tbody>\n",
       "    <tr>\n",
       "      <th>0</th>\n",
       "      <td>2</td>\n",
       "      <td>3</td>\n",
       "      <td>12669</td>\n",
       "      <td>9656</td>\n",
       "      <td>7561</td>\n",
       "      <td>214</td>\n",
       "      <td>2674</td>\n",
       "      <td>1338</td>\n",
       "      <td>23663</td>\n",
       "      <td>10449</td>\n",
       "      <td>h</td>\n",
       "      <td>m</td>\n",
       "    </tr>\n",
       "    <tr>\n",
       "      <th>1</th>\n",
       "      <td>2</td>\n",
       "      <td>3</td>\n",
       "      <td>7057</td>\n",
       "      <td>9810</td>\n",
       "      <td>9568</td>\n",
       "      <td>1762</td>\n",
       "      <td>3293</td>\n",
       "      <td>1776</td>\n",
       "      <td>18643</td>\n",
       "      <td>14623</td>\n",
       "      <td>m</td>\n",
       "      <td>h</td>\n",
       "    </tr>\n",
       "    <tr>\n",
       "      <th>2</th>\n",
       "      <td>2</td>\n",
       "      <td>3</td>\n",
       "      <td>6353</td>\n",
       "      <td>8808</td>\n",
       "      <td>7684</td>\n",
       "      <td>2405</td>\n",
       "      <td>3516</td>\n",
       "      <td>7844</td>\n",
       "      <td>23005</td>\n",
       "      <td>13605</td>\n",
       "      <td>h</td>\n",
       "      <td>m</td>\n",
       "    </tr>\n",
       "    <tr>\n",
       "      <th>3</th>\n",
       "      <td>1</td>\n",
       "      <td>3</td>\n",
       "      <td>13265</td>\n",
       "      <td>1196</td>\n",
       "      <td>4221</td>\n",
       "      <td>6404</td>\n",
       "      <td>507</td>\n",
       "      <td>1788</td>\n",
       "      <td>16249</td>\n",
       "      <td>11132</td>\n",
       "      <td>m</td>\n",
       "      <td>m</td>\n",
       "    </tr>\n",
       "    <tr>\n",
       "      <th>4</th>\n",
       "      <td>2</td>\n",
       "      <td>3</td>\n",
       "      <td>22615</td>\n",
       "      <td>5410</td>\n",
       "      <td>7198</td>\n",
       "      <td>3915</td>\n",
       "      <td>1777</td>\n",
       "      <td>5185</td>\n",
       "      <td>33210</td>\n",
       "      <td>12890</td>\n",
       "      <td>h</td>\n",
       "      <td>m</td>\n",
       "    </tr>\n",
       "  </tbody>\n",
       "</table>\n",
       "</div>"
      ],
      "text/plain": [
       "   Channel  Region  Fresh  Milk  Grocery  Frozen  Detergents_Paper  \\\n",
       "0        2       3  12669  9656     7561     214              2674   \n",
       "1        2       3   7057  9810     9568    1762              3293   \n",
       "2        2       3   6353  8808     7684    2405              3516   \n",
       "3        1       3  13265  1196     4221    6404               507   \n",
       "4        2       3  22615  5410     7198    3915              1777   \n",
       "\n",
       "   Delicassen  Perishable_P  Non_Perishable_P PP_Cat Non_PP_Cat  \n",
       "0        1338         23663             10449      h          m  \n",
       "1        1776         18643             14623      m          h  \n",
       "2        7844         23005             13605      h          m  \n",
       "3        1788         16249             11132      m          m  \n",
       "4        5185         33210             12890      h          m  "
      ]
     },
     "execution_count": 194,
     "metadata": {},
     "output_type": "execute_result"
    }
   ],
   "source": [
    "data.head()"
   ]
  },
  {
   "cell_type": "markdown",
   "id": "cac2a50f",
   "metadata": {},
   "source": [
    "# Discovering structure in dataset."
   ]
  },
  {
   "cell_type": "code",
   "execution_count": 195,
   "id": "25e22525",
   "metadata": {},
   "outputs": [],
   "source": [
    "## D. Data preprocessing\n",
    "# 1.4.1 Scaling data in various manner\n",
    "from sklearn.preprocessing import StandardScaler\n",
    "from sklearn.model_selection import StratifiedShuffleSplit\n",
    "\n",
    "from sklearn.decomposition import PCA\n",
    "from sklearn.preprocessing import LabelEncoder\n",
    "from sklearn.preprocessing import FunctionTransformer\n",
    "\n",
    "from sklearn.pipeline import make_pipeline\n",
    "## Manifolds\n",
    "from sklearn.manifold import TSNE\n",
    "\n",
    "from sklearn.ensemble import  RandomForestClassifier\n",
    "from sklearn.metrics import log_loss\n",
    "## G: Others\n",
    "# 1.10 Misc/visualization\n",
    "import os, time, gc\n",
    "import matplotlib.pyplot as plt\n",
    "import seaborn as sns"
   ]
  },
  {
   "cell_type": "code",
   "execution_count": 196,
   "id": "e33e14d8",
   "metadata": {},
   "outputs": [
    {
     "data": {
      "text/html": [
       "<div>\n",
       "<style scoped>\n",
       "    .dataframe tbody tr th:only-of-type {\n",
       "        vertical-align: middle;\n",
       "    }\n",
       "\n",
       "    .dataframe tbody tr th {\n",
       "        vertical-align: top;\n",
       "    }\n",
       "\n",
       "    .dataframe thead th {\n",
       "        text-align: right;\n",
       "    }\n",
       "</style>\n",
       "<table border=\"1\" class=\"dataframe\">\n",
       "  <thead>\n",
       "    <tr style=\"text-align: right;\">\n",
       "      <th></th>\n",
       "      <th>Channel</th>\n",
       "      <th>Region</th>\n",
       "      <th>Fresh</th>\n",
       "      <th>Milk</th>\n",
       "      <th>Grocery</th>\n",
       "      <th>Frozen</th>\n",
       "      <th>Detergents_Paper</th>\n",
       "      <th>Delicassen</th>\n",
       "      <th>Perishable_P</th>\n",
       "      <th>Non_Perishable_P</th>\n",
       "      <th>PP_Cat</th>\n",
       "      <th>Non_PP_Cat</th>\n",
       "    </tr>\n",
       "  </thead>\n",
       "  <tbody>\n",
       "    <tr>\n",
       "      <th>0</th>\n",
       "      <td>2</td>\n",
       "      <td>3</td>\n",
       "      <td>12669</td>\n",
       "      <td>9656</td>\n",
       "      <td>7561</td>\n",
       "      <td>214</td>\n",
       "      <td>2674</td>\n",
       "      <td>1338</td>\n",
       "      <td>23663</td>\n",
       "      <td>10449</td>\n",
       "      <td>h</td>\n",
       "      <td>m</td>\n",
       "    </tr>\n",
       "    <tr>\n",
       "      <th>1</th>\n",
       "      <td>2</td>\n",
       "      <td>3</td>\n",
       "      <td>7057</td>\n",
       "      <td>9810</td>\n",
       "      <td>9568</td>\n",
       "      <td>1762</td>\n",
       "      <td>3293</td>\n",
       "      <td>1776</td>\n",
       "      <td>18643</td>\n",
       "      <td>14623</td>\n",
       "      <td>m</td>\n",
       "      <td>h</td>\n",
       "    </tr>\n",
       "    <tr>\n",
       "      <th>2</th>\n",
       "      <td>2</td>\n",
       "      <td>3</td>\n",
       "      <td>6353</td>\n",
       "      <td>8808</td>\n",
       "      <td>7684</td>\n",
       "      <td>2405</td>\n",
       "      <td>3516</td>\n",
       "      <td>7844</td>\n",
       "      <td>23005</td>\n",
       "      <td>13605</td>\n",
       "      <td>h</td>\n",
       "      <td>m</td>\n",
       "    </tr>\n",
       "    <tr>\n",
       "      <th>3</th>\n",
       "      <td>1</td>\n",
       "      <td>3</td>\n",
       "      <td>13265</td>\n",
       "      <td>1196</td>\n",
       "      <td>4221</td>\n",
       "      <td>6404</td>\n",
       "      <td>507</td>\n",
       "      <td>1788</td>\n",
       "      <td>16249</td>\n",
       "      <td>11132</td>\n",
       "      <td>m</td>\n",
       "      <td>m</td>\n",
       "    </tr>\n",
       "    <tr>\n",
       "      <th>4</th>\n",
       "      <td>2</td>\n",
       "      <td>3</td>\n",
       "      <td>22615</td>\n",
       "      <td>5410</td>\n",
       "      <td>7198</td>\n",
       "      <td>3915</td>\n",
       "      <td>1777</td>\n",
       "      <td>5185</td>\n",
       "      <td>33210</td>\n",
       "      <td>12890</td>\n",
       "      <td>h</td>\n",
       "      <td>m</td>\n",
       "    </tr>\n",
       "    <tr>\n",
       "      <th>...</th>\n",
       "      <td>...</td>\n",
       "      <td>...</td>\n",
       "      <td>...</td>\n",
       "      <td>...</td>\n",
       "      <td>...</td>\n",
       "      <td>...</td>\n",
       "      <td>...</td>\n",
       "      <td>...</td>\n",
       "      <td>...</td>\n",
       "      <td>...</td>\n",
       "      <td>...</td>\n",
       "      <td>...</td>\n",
       "    </tr>\n",
       "    <tr>\n",
       "      <th>435</th>\n",
       "      <td>1</td>\n",
       "      <td>3</td>\n",
       "      <td>29703</td>\n",
       "      <td>12051</td>\n",
       "      <td>16027</td>\n",
       "      <td>13135</td>\n",
       "      <td>182</td>\n",
       "      <td>2204</td>\n",
       "      <td>43958</td>\n",
       "      <td>29344</td>\n",
       "      <td>h</td>\n",
       "      <td>h</td>\n",
       "    </tr>\n",
       "    <tr>\n",
       "      <th>436</th>\n",
       "      <td>1</td>\n",
       "      <td>3</td>\n",
       "      <td>39228</td>\n",
       "      <td>1431</td>\n",
       "      <td>764</td>\n",
       "      <td>4510</td>\n",
       "      <td>93</td>\n",
       "      <td>2346</td>\n",
       "      <td>43005</td>\n",
       "      <td>5367</td>\n",
       "      <td>h</td>\n",
       "      <td>l</td>\n",
       "    </tr>\n",
       "    <tr>\n",
       "      <th>437</th>\n",
       "      <td>2</td>\n",
       "      <td>3</td>\n",
       "      <td>14531</td>\n",
       "      <td>15488</td>\n",
       "      <td>30243</td>\n",
       "      <td>437</td>\n",
       "      <td>14841</td>\n",
       "      <td>1867</td>\n",
       "      <td>31886</td>\n",
       "      <td>45521</td>\n",
       "      <td>h</td>\n",
       "      <td>h</td>\n",
       "    </tr>\n",
       "    <tr>\n",
       "      <th>438</th>\n",
       "      <td>1</td>\n",
       "      <td>3</td>\n",
       "      <td>10290</td>\n",
       "      <td>1981</td>\n",
       "      <td>2232</td>\n",
       "      <td>1038</td>\n",
       "      <td>168</td>\n",
       "      <td>2125</td>\n",
       "      <td>14396</td>\n",
       "      <td>3438</td>\n",
       "      <td>m</td>\n",
       "      <td>l</td>\n",
       "    </tr>\n",
       "    <tr>\n",
       "      <th>439</th>\n",
       "      <td>1</td>\n",
       "      <td>3</td>\n",
       "      <td>2787</td>\n",
       "      <td>1698</td>\n",
       "      <td>2510</td>\n",
       "      <td>65</td>\n",
       "      <td>477</td>\n",
       "      <td>52</td>\n",
       "      <td>4537</td>\n",
       "      <td>3052</td>\n",
       "      <td>l</td>\n",
       "      <td>l</td>\n",
       "    </tr>\n",
       "  </tbody>\n",
       "</table>\n",
       "<p>440 rows × 12 columns</p>\n",
       "</div>"
      ],
      "text/plain": [
       "     Channel  Region  Fresh   Milk  Grocery  Frozen  Detergents_Paper  \\\n",
       "0          2       3  12669   9656     7561     214              2674   \n",
       "1          2       3   7057   9810     9568    1762              3293   \n",
       "2          2       3   6353   8808     7684    2405              3516   \n",
       "3          1       3  13265   1196     4221    6404               507   \n",
       "4          2       3  22615   5410     7198    3915              1777   \n",
       "..       ...     ...    ...    ...      ...     ...               ...   \n",
       "435        1       3  29703  12051    16027   13135               182   \n",
       "436        1       3  39228   1431      764    4510                93   \n",
       "437        2       3  14531  15488    30243     437             14841   \n",
       "438        1       3  10290   1981     2232    1038               168   \n",
       "439        1       3   2787   1698     2510      65               477   \n",
       "\n",
       "     Delicassen  Perishable_P  Non_Perishable_P PP_Cat Non_PP_Cat  \n",
       "0          1338         23663             10449      h          m  \n",
       "1          1776         18643             14623      m          h  \n",
       "2          7844         23005             13605      h          m  \n",
       "3          1788         16249             11132      m          m  \n",
       "4          5185         33210             12890      h          m  \n",
       "..          ...           ...               ...    ...        ...  \n",
       "435        2204         43958             29344      h          h  \n",
       "436        2346         43005              5367      h          l  \n",
       "437        1867         31886             45521      h          h  \n",
       "438        2125         14396              3438      m          l  \n",
       "439          52          4537              3052      l          l  \n",
       "\n",
       "[440 rows x 12 columns]"
      ]
     },
     "execution_count": 196,
     "metadata": {},
     "output_type": "execute_result"
    }
   ],
   "source": [
    "data"
   ]
  },
  {
   "cell_type": "markdown",
   "id": "aa2e9036",
   "metadata": {},
   "source": [
    "Poping out the target variable in order to separate predictors and target."
   ]
  },
  {
   "cell_type": "code",
   "execution_count": 197,
   "id": "439c36d3",
   "metadata": {},
   "outputs": [],
   "source": [
    "y = data.pop(\"Channel\")"
   ]
  },
  {
   "cell_type": "markdown",
   "id": "547a6648",
   "metadata": {},
   "source": [
    "We added new features during feature engineering of dataset and extracted all the needed information for our dataset. Now those added features are no more useful for us so we can drop them. We will be dropping just few of those features and not all the features."
   ]
  },
  {
   "cell_type": "code",
   "execution_count": 198,
   "id": "dbb49c39",
   "metadata": {},
   "outputs": [],
   "source": [
    "data.drop(labels='Non_PP_Cat', axis=1, inplace=True)"
   ]
  },
  {
   "cell_type": "code",
   "execution_count": 199,
   "id": "07fef84f",
   "metadata": {},
   "outputs": [],
   "source": [
    "data.drop(labels='PP_Cat', axis=1, inplace=True)"
   ]
  },
  {
   "cell_type": "code",
   "execution_count": 200,
   "id": "ac8b14d7",
   "metadata": {},
   "outputs": [
    {
     "data": {
      "text/html": [
       "<div>\n",
       "<style scoped>\n",
       "    .dataframe tbody tr th:only-of-type {\n",
       "        vertical-align: middle;\n",
       "    }\n",
       "\n",
       "    .dataframe tbody tr th {\n",
       "        vertical-align: top;\n",
       "    }\n",
       "\n",
       "    .dataframe thead th {\n",
       "        text-align: right;\n",
       "    }\n",
       "</style>\n",
       "<table border=\"1\" class=\"dataframe\">\n",
       "  <thead>\n",
       "    <tr style=\"text-align: right;\">\n",
       "      <th></th>\n",
       "      <th>Region</th>\n",
       "      <th>Fresh</th>\n",
       "      <th>Milk</th>\n",
       "      <th>Grocery</th>\n",
       "      <th>Frozen</th>\n",
       "      <th>Detergents_Paper</th>\n",
       "      <th>Delicassen</th>\n",
       "      <th>Perishable_P</th>\n",
       "      <th>Non_Perishable_P</th>\n",
       "    </tr>\n",
       "  </thead>\n",
       "  <tbody>\n",
       "    <tr>\n",
       "      <th>0</th>\n",
       "      <td>3</td>\n",
       "      <td>12669</td>\n",
       "      <td>9656</td>\n",
       "      <td>7561</td>\n",
       "      <td>214</td>\n",
       "      <td>2674</td>\n",
       "      <td>1338</td>\n",
       "      <td>23663</td>\n",
       "      <td>10449</td>\n",
       "    </tr>\n",
       "    <tr>\n",
       "      <th>1</th>\n",
       "      <td>3</td>\n",
       "      <td>7057</td>\n",
       "      <td>9810</td>\n",
       "      <td>9568</td>\n",
       "      <td>1762</td>\n",
       "      <td>3293</td>\n",
       "      <td>1776</td>\n",
       "      <td>18643</td>\n",
       "      <td>14623</td>\n",
       "    </tr>\n",
       "    <tr>\n",
       "      <th>2</th>\n",
       "      <td>3</td>\n",
       "      <td>6353</td>\n",
       "      <td>8808</td>\n",
       "      <td>7684</td>\n",
       "      <td>2405</td>\n",
       "      <td>3516</td>\n",
       "      <td>7844</td>\n",
       "      <td>23005</td>\n",
       "      <td>13605</td>\n",
       "    </tr>\n",
       "    <tr>\n",
       "      <th>3</th>\n",
       "      <td>3</td>\n",
       "      <td>13265</td>\n",
       "      <td>1196</td>\n",
       "      <td>4221</td>\n",
       "      <td>6404</td>\n",
       "      <td>507</td>\n",
       "      <td>1788</td>\n",
       "      <td>16249</td>\n",
       "      <td>11132</td>\n",
       "    </tr>\n",
       "    <tr>\n",
       "      <th>4</th>\n",
       "      <td>3</td>\n",
       "      <td>22615</td>\n",
       "      <td>5410</td>\n",
       "      <td>7198</td>\n",
       "      <td>3915</td>\n",
       "      <td>1777</td>\n",
       "      <td>5185</td>\n",
       "      <td>33210</td>\n",
       "      <td>12890</td>\n",
       "    </tr>\n",
       "    <tr>\n",
       "      <th>...</th>\n",
       "      <td>...</td>\n",
       "      <td>...</td>\n",
       "      <td>...</td>\n",
       "      <td>...</td>\n",
       "      <td>...</td>\n",
       "      <td>...</td>\n",
       "      <td>...</td>\n",
       "      <td>...</td>\n",
       "      <td>...</td>\n",
       "    </tr>\n",
       "    <tr>\n",
       "      <th>435</th>\n",
       "      <td>3</td>\n",
       "      <td>29703</td>\n",
       "      <td>12051</td>\n",
       "      <td>16027</td>\n",
       "      <td>13135</td>\n",
       "      <td>182</td>\n",
       "      <td>2204</td>\n",
       "      <td>43958</td>\n",
       "      <td>29344</td>\n",
       "    </tr>\n",
       "    <tr>\n",
       "      <th>436</th>\n",
       "      <td>3</td>\n",
       "      <td>39228</td>\n",
       "      <td>1431</td>\n",
       "      <td>764</td>\n",
       "      <td>4510</td>\n",
       "      <td>93</td>\n",
       "      <td>2346</td>\n",
       "      <td>43005</td>\n",
       "      <td>5367</td>\n",
       "    </tr>\n",
       "    <tr>\n",
       "      <th>437</th>\n",
       "      <td>3</td>\n",
       "      <td>14531</td>\n",
       "      <td>15488</td>\n",
       "      <td>30243</td>\n",
       "      <td>437</td>\n",
       "      <td>14841</td>\n",
       "      <td>1867</td>\n",
       "      <td>31886</td>\n",
       "      <td>45521</td>\n",
       "    </tr>\n",
       "    <tr>\n",
       "      <th>438</th>\n",
       "      <td>3</td>\n",
       "      <td>10290</td>\n",
       "      <td>1981</td>\n",
       "      <td>2232</td>\n",
       "      <td>1038</td>\n",
       "      <td>168</td>\n",
       "      <td>2125</td>\n",
       "      <td>14396</td>\n",
       "      <td>3438</td>\n",
       "    </tr>\n",
       "    <tr>\n",
       "      <th>439</th>\n",
       "      <td>3</td>\n",
       "      <td>2787</td>\n",
       "      <td>1698</td>\n",
       "      <td>2510</td>\n",
       "      <td>65</td>\n",
       "      <td>477</td>\n",
       "      <td>52</td>\n",
       "      <td>4537</td>\n",
       "      <td>3052</td>\n",
       "    </tr>\n",
       "  </tbody>\n",
       "</table>\n",
       "<p>440 rows × 9 columns</p>\n",
       "</div>"
      ],
      "text/plain": [
       "     Region  Fresh   Milk  Grocery  Frozen  Detergents_Paper  Delicassen  \\\n",
       "0         3  12669   9656     7561     214              2674        1338   \n",
       "1         3   7057   9810     9568    1762              3293        1776   \n",
       "2         3   6353   8808     7684    2405              3516        7844   \n",
       "3         3  13265   1196     4221    6404               507        1788   \n",
       "4         3  22615   5410     7198    3915              1777        5185   \n",
       "..      ...    ...    ...      ...     ...               ...         ...   \n",
       "435       3  29703  12051    16027   13135               182        2204   \n",
       "436       3  39228   1431      764    4510                93        2346   \n",
       "437       3  14531  15488    30243     437             14841        1867   \n",
       "438       3  10290   1981     2232    1038               168        2125   \n",
       "439       3   2787   1698     2510      65               477          52   \n",
       "\n",
       "     Perishable_P  Non_Perishable_P  \n",
       "0           23663             10449  \n",
       "1           18643             14623  \n",
       "2           23005             13605  \n",
       "3           16249             11132  \n",
       "4           33210             12890  \n",
       "..            ...               ...  \n",
       "435         43958             29344  \n",
       "436         43005              5367  \n",
       "437         31886             45521  \n",
       "438         14396              3438  \n",
       "439          4537              3052  \n",
       "\n",
       "[440 rows x 9 columns]"
      ]
     },
     "execution_count": 200,
     "metadata": {},
     "output_type": "execute_result"
    }
   ],
   "source": [
    "data"
   ]
  },
  {
   "cell_type": "markdown",
   "id": "d208418f",
   "metadata": {},
   "source": [
    "Creating just an alias of predictor dataset. X is just an another name of data."
   ]
  },
  {
   "cell_type": "code",
   "execution_count": 201,
   "id": "8cd6d29c",
   "metadata": {},
   "outputs": [
    {
     "data": {
      "text/plain": [
       "(440, 9)"
      ]
     },
     "execution_count": 201,
     "metadata": {},
     "output_type": "execute_result"
    }
   ],
   "source": [
    "X = data    \n",
    "X.shape    "
   ]
  },
  {
   "cell_type": "markdown",
   "id": "1fa6a83a",
   "metadata": {},
   "source": [
    "Splitting the dataset into train and validation parts. Here we have splitted our dataset in such a manner that 80% of the dataset will be used for training the model and other 20% of the dataset will be used to test the model."
   ]
  },
  {
   "cell_type": "code",
   "execution_count": 204,
   "id": "3b3a3f13",
   "metadata": {},
   "outputs": [],
   "source": [
    "X_train, X_test, y_train, y_test = train_test_split(X,\n",
    "                                                    y,\n",
    "                                                    test_size=0.20,\n",
    "                                                    shuffle = True,\n",
    "                                                    stratify = y\n",
    "                                                    )"
   ]
  },
  {
   "cell_type": "code",
   "execution_count": 205,
   "id": "f46d693b",
   "metadata": {},
   "outputs": [
    {
     "name": "stdout",
     "output_type": "stream",
     "text": [
      "(352, 9)\n",
      "(88, 9)\n",
      "(352,)\n",
      "(88,)\n"
     ]
    }
   ],
   "source": [
    "# 4.1 Note the use of f-string for printing\n",
    "f\"X_train shape: {X_train.shape}\"   \n",
    "print(X_train.shape)\n",
    "f\"X_test.shape : {X_test.shape}\"     \n",
    "print(X_test.shape)\n",
    "f\"y_train shape: {y_train.shape}\"    \n",
    "print(y_train.shape)\n",
    "f\"y_test shape : {y_test.shape}\"  \n",
    "print(y_test.shape)"
   ]
  },
  {
   "cell_type": "markdown",
   "id": "31b24acf",
   "metadata": {},
   "source": [
    "Now we will be separating out categorical and numerical features."
   ]
  },
  {
   "cell_type": "code",
   "execution_count": 206,
   "id": "db8f8f77",
   "metadata": {
    "scrolled": true
   },
   "outputs": [
    {
     "name": "stdout",
     "output_type": "stream",
     "text": [
      "\n",
      "--Unique values in each column\n",
      "\n",
      "\n",
      "--All 'True' are Categorical----\n"
     ]
    },
    {
     "data": {
      "text/plain": [
       "Region               True\n",
       "Fresh               False\n",
       "Milk                False\n",
       "Grocery             False\n",
       "Frozen              False\n",
       "Detergents_Paper    False\n",
       "Delicassen          False\n",
       "Perishable_P        False\n",
       "Non_Perishable_P    False\n",
       "dtype: bool"
      ]
     },
     "execution_count": 206,
     "metadata": {},
     "output_type": "execute_result"
    }
   ],
   "source": [
    "print(\"\\n--Unique values in each column\")\n",
    "X_train.nunique()        # Total no of unique values in each column\n",
    "\n",
    "# If no. of unique values less than 5, it is categorical\n",
    "print(\"\\n\\n--All 'True' are Categorical----\")\n",
    "X_train.nunique() < 5    # All True are categorical"
   ]
  },
  {
   "cell_type": "markdown",
   "id": "5d096559",
   "metadata": {},
   "source": [
    "Only Region feature from the training dataset comes out to be a categorical feature."
   ]
  },
  {
   "cell_type": "code",
   "execution_count": 211,
   "id": "96c9fd67",
   "metadata": {
    "scrolled": true
   },
   "outputs": [
    {
     "name": "stdout",
     "output_type": "stream",
     "text": [
      "['Region']\n"
     ]
    },
    {
     "data": {
      "text/plain": [
       "['Fresh',\n",
       " 'Milk',\n",
       " 'Grocery',\n",
       " 'Frozen',\n",
       " 'Detergents_Paper',\n",
       " 'Delicassen',\n",
       " 'Perishable_P',\n",
       " 'Non_Perishable_P']"
      ]
     },
     "execution_count": 211,
     "metadata": {},
     "output_type": "execute_result"
    }
   ],
   "source": [
    "cat_cols = ['Region']\n",
    "print(cat_cols)\n",
    "num_cols = ['Fresh','Milk','Grocery','Frozen','Detergents_Paper','Delicassen','Perishable_P','Non_Perishable_P']\n",
    "num_cols"
   ]
  },
  {
   "cell_type": "markdown",
   "id": "46e3df58",
   "metadata": {},
   "source": [
    "Using T-sne dimensionality reduction to discover if data possess any structure."
   ]
  },
  {
   "cell_type": "markdown",
   "id": "7d0cec70",
   "metadata": {},
   "source": [
    "Visualizing t-SNE"
   ]
  },
  {
   "cell_type": "code",
   "execution_count": 219,
   "id": "b5a4334d",
   "metadata": {
    "scrolled": true
   },
   "outputs": [
    {
     "name": "stdout",
     "output_type": "stream",
     "text": [
      "Wall time: 0 ns\n"
     ]
    }
   ],
   "source": [
    "%time\n",
    "tsne = TSNE(random_state = 42, n_components=2,verbose=0, perplexity=30, n_iter=300).fit_transform(df)"
   ]
  },
  {
   "cell_type": "code",
   "execution_count": 220,
   "id": "1481c643",
   "metadata": {},
   "outputs": [
    {
     "data": {
      "image/png": "[encoded data removed]",
      "text/plain": [
       "<Figure size 432x288 with 2 Axes>"
      ]
     },
     "metadata": {
      "needs_background": "light"
     },
     "output_type": "display_data"
    }
   ],
   "source": [
    "plt.scatter(tsne[:, 0], tsne[:, 1], s= 5, c=y, cmap='Spectral')\n",
    "plt.gca().set_aspect('equal', 'datalim')\n",
    "plt.colorbar(boundaries=np.arange(11)-0.5).set_ticks(np.arange(10))\n",
    "plt.title('Visualizing through t-SNE', fontsize=24);"
   ]
  },
  {
   "cell_type": "markdown",
   "id": "fc7fdacb",
   "metadata": {},
   "source": [
    "Visualising TSNE in 3D"
   ]
  },
  {
   "cell_type": "code",
   "execution_count": 217,
   "id": "0f2529ab",
   "metadata": {},
   "outputs": [
    {
     "name": "stdout",
     "output_type": "stream",
     "text": [
      "Wall time: 0 ns\n"
     ]
    }
   ],
   "source": [
    "%time\n",
    "pca_tsne2 = TSNE(random_state = 42, n_components=3, verbose=0, perplexity=40, n_iter=300).fit_transform(tsne)"
   ]
  },
  {
   "cell_type": "code",
   "execution_count": 218,
   "id": "beec8e9f",
   "metadata": {},
   "outputs": [
    {
     "data": {
      "image/png": "[encoded data removed]",
      "text/plain": [
       "<Figure size 432x288 with 1 Axes>"
      ]
     },
     "metadata": {
      "needs_background": "light"
     },
     "output_type": "display_data"
    }
   ],
   "source": [
    "from mpl_toolkits.mplot3d import Axes3D\n",
    "\n",
    "fig = plt.figure()\n",
    "ax = fig.add_subplot(111, projection='3d')\n",
    "\n",
    "ax.scatter(pca_tsne2[:, 0], pca_tsne2[:, 1],pca_tsne2[:,2], s= 5, c=y, cmap='Spectral')\n",
    "plt.title('Visualizing through t-SNE in 3D', fontsize=24);\n",
    "plt.show()"
   ]
  },
  {
   "cell_type": "markdown",
   "id": "2098063d",
   "metadata": {},
   "source": [
    "# Data pipelining for data processing and modeling--"
   ]
  },
  {
   "cell_type": "markdown",
   "id": "4ac306c4",
   "metadata": {},
   "source": [
    "we have already divided cat_cols and num_cols. Now we will further sub divide. During data visulaization we saw that there were outliers so we will use median instead of mean for all num_cols."
   ]
  },
  {
   "cell_type": "code",
   "execution_count": 221,
   "id": "cbedabd5",
   "metadata": {},
   "outputs": [],
   "source": [
    "num_cols_median = ['Fresh',\n",
    " 'Milk',\n",
    " 'Grocery',\n",
    " 'Frozen',\n",
    " 'Detergents_Paper',\n",
    " 'Delicassen',\n",
    " 'Perishable_P',\n",
    " 'Non_Perishable_P']"
   ]
  },
  {
   "cell_type": "markdown",
   "id": "3a615400",
   "metadata": {},
   "source": [
    "We are using most frequent and not constant as we do not have missing values."
   ]
  },
  {
   "cell_type": "code",
   "execution_count": 222,
   "id": "eceabaa4",
   "metadata": {},
   "outputs": [],
   "source": [
    "cat_cols_mf       = ['Region']      #As we have only 1 categorical variable."
   ]
  },
  {
   "cell_type": "markdown",
   "id": "bee0678c",
   "metadata": {},
   "source": [
    "We do not need to split dataset or pop out target variable now as we already did it earlier when we were discovering structure in dataset."
   ]
  },
  {
   "cell_type": "markdown",
   "id": "a9120f3d",
   "metadata": {},
   "source": [
    "## Creating pipes."
   ]
  },
  {
   "cell_type": "code",
   "execution_count": 223,
   "id": "f80eca28",
   "metadata": {},
   "outputs": [],
   "source": [
    "from sklearn.impute import SimpleImputer\n",
    "from sklearn.preprocessing import OneHotEncoder\n",
    "from sklearn.preprocessing import StandardScaler\n",
    "from sklearn.preprocessing import LabelEncoder\n",
    "from sklearn.compose import ColumnTransformer\n",
    "from sklearn.pipeline import Pipeline\n",
    "from sklearn.tree import DecisionTreeClassifier\n",
    "from sklearn.model_selection import train_test_split"
   ]
  },
  {
   "cell_type": "markdown",
   "id": "7d516c4b",
   "metadata": {},
   "source": [
    "Instantiating pipeline object for processing cat data. Impute = most_frequent."
   ]
  },
  {
   "cell_type": "code",
   "execution_count": 224,
   "id": "9156cee2",
   "metadata": {},
   "outputs": [],
   "source": [
    "pipe1  =  Pipeline(\n",
    "                     [\n",
    "                      ('mf', SimpleImputer(strategy='most_frequent')),\n",
    "                      ('ohe', OneHotEncoder())\n",
    "                     ]\n",
    "                   )"
   ]
  },
  {
   "cell_type": "markdown",
   "id": "451293e8",
   "metadata": {},
   "source": [
    "Instantiating pipeline object for processing numerical data. Impute = median."
   ]
  },
  {
   "cell_type": "code",
   "execution_count": 226,
   "id": "4047eed4",
   "metadata": {},
   "outputs": [],
   "source": [
    "pipe2    = Pipeline(\n",
    "                     [\n",
    "                      ('sm', SimpleImputer(strategy='median')),\n",
    "                      ('ss2', StandardScaler())\n",
    "                     ]\n",
    "                  )"
   ]
  },
  {
   "cell_type": "markdown",
   "id": "55c712b6",
   "metadata": {},
   "source": [
    "## Testing pipes."
   ]
  },
  {
   "cell_type": "markdown",
   "id": "27344437",
   "metadata": {},
   "source": [
    "Feeding data to each pipe to see if it is working."
   ]
  },
  {
   "cell_type": "code",
   "execution_count": 227,
   "id": "50ec3307",
   "metadata": {},
   "outputs": [
    {
     "data": {
      "text/plain": [
       "array([[-0.19856845, -0.63954949, -0.53578079, ..., -0.24555749,\n",
       "        -0.4718194 , -0.53087885],\n",
       "       [-0.89786759,  1.63393076, -0.657714  , ...,  0.81356788,\n",
       "         0.19809834, -0.39564649],\n",
       "       [-0.41060017, -0.58638218, -0.60278822, ..., -0.17229078,\n",
       "        -0.592485  , -0.61579373],\n",
       "       ...,\n",
       "       [-0.39254189, -0.70196328, -0.76685489, ..., -0.44558208,\n",
       "        -0.67781727, -0.82587747],\n",
       "       [ 0.4247482 , -0.57353983, -0.61852481, ..., -0.14019607,\n",
       "         0.03694663, -0.63256622],\n",
       "       [-0.9414064 , -0.66960057, -0.62197671, ..., -0.4744349 ,\n",
       "        -1.07475103, -0.78167701]])"
      ]
     },
     "execution_count": 227,
     "metadata": {},
     "output_type": "execute_result"
    }
   ],
   "source": [
    "pipe1.fit_transform(X_train[cat_cols_mf])\n",
    "pipe2.fit_transform(X_train[num_cols_median])"
   ]
  },
  {
   "cell_type": "markdown",
   "id": "f92dd130",
   "metadata": {},
   "source": [
    "## Collecting pipes into ColumnTransformer"
   ]
  },
  {
   "cell_type": "markdown",
   "id": "8e5e04fe",
   "metadata": {},
   "source": [
    "Collecting all pipes in column transformer along the column names. All pipes operate parallely."
   ]
  },
  {
   "cell_type": "code",
   "execution_count": 228,
   "id": "0ec0fc5c",
   "metadata": {},
   "outputs": [],
   "source": [
    "#  (some-name,  transformer,   col-names)\n",
    "ct_transformer = ColumnTransformer(\n",
    "                                    [\n",
    "                                      ('p_mf',   pipe1,   cat_cols_mf),\n",
    "                                     \n",
    "                                      ('p_med',  pipe2,   num_cols_median)\n",
    "                                   \n",
    "                                    ]\n",
    "                                  )"
   ]
  },
  {
   "cell_type": "markdown",
   "id": "e5cd22a4",
   "metadata": {},
   "source": [
    "## Testing Column Transformer"
   ]
  },
  {
   "cell_type": "code",
   "execution_count": 231,
   "id": "ba37cc6c",
   "metadata": {},
   "outputs": [
    {
     "data": {
      "text/plain": [
       "array([[ 0.        ,  0.        ,  1.        , ..., -0.24555749,\n",
       "        -0.4718194 , -0.53087885],\n",
       "       [ 0.        ,  0.        ,  1.        , ...,  0.81356788,\n",
       "         0.19809834, -0.39564649],\n",
       "       [ 0.        ,  1.        ,  0.        , ..., -0.17229078,\n",
       "        -0.592485  , -0.61579373],\n",
       "       ...,\n",
       "       [ 1.        ,  0.        ,  0.        , ..., -0.44558208,\n",
       "        -0.67781727, -0.82587747],\n",
       "       [ 1.        ,  0.        ,  0.        , ..., -0.14019607,\n",
       "         0.03694663, -0.63256622],\n",
       "       [ 0.        ,  0.        ,  1.        , ..., -0.4744349 ,\n",
       "        -1.07475103, -0.78167701]])"
      ]
     },
     "execution_count": 231,
     "metadata": {},
     "output_type": "execute_result"
    }
   ],
   "source": [
    "ct_transformer.fit_transform(X_train)"
   ]
  },
  {
   "cell_type": "markdown",
   "id": "f4ffc53f",
   "metadata": {},
   "source": [
    "Final Pipeline for transformation and modeling."
   ]
  },
  {
   "cell_type": "code",
   "execution_count": 232,
   "id": "3054c747",
   "metadata": {},
   "outputs": [],
   "source": [
    "outer_pipe = Pipeline(\n",
    "                      [\n",
    "                       ('ct', ct_transformer),        # Column transformer object\n",
    "                       ('dt', DecisionTreeClassifier()) # Estimator\n",
    "                      ]\n",
    "                     )"
   ]
  },
  {
   "cell_type": "markdown",
   "id": "0ef558e5",
   "metadata": {},
   "source": [
    "Train on data using final pipe."
   ]
  },
  {
   "cell_type": "code",
   "execution_count": 233,
   "id": "2267ab80",
   "metadata": {},
   "outputs": [
    {
     "data": {
      "text/plain": [
       "Pipeline(steps=[('ct',\n",
       "                 ColumnTransformer(transformers=[('p_mf',\n",
       "                                                  Pipeline(steps=[('mf',\n",
       "                                                                   SimpleImputer(strategy='most_frequent')),\n",
       "                                                                  ('ohe',\n",
       "                                                                   OneHotEncoder())]),\n",
       "                                                  ['Region']),\n",
       "                                                 ('p_med',\n",
       "                                                  Pipeline(steps=[('sm',\n",
       "                                                                   SimpleImputer(strategy='median')),\n",
       "                                                                  ('ss2',\n",
       "                                                                   StandardScaler())]),\n",
       "                                                  ['Fresh', 'Milk', 'Grocery',\n",
       "                                                   'Frozen', 'Detergents_Paper',\n",
       "                                                   'Delicassen', 'Perishable_P',\n",
       "                                                   'Non_Perishable_P'])])),\n",
       "                ('dt', DecisionTreeClassifier())])"
      ]
     },
     "execution_count": 233,
     "metadata": {},
     "output_type": "execute_result"
    }
   ],
   "source": [
    "outer_pipe.fit(X_train,y_train)"
   ]
  },
  {
   "cell_type": "markdown",
   "id": "336f6fdb",
   "metadata": {},
   "source": [
    "Making prediction on test data. Here we do not need to transform X_test separately as pipes take care of that."
   ]
  },
  {
   "cell_type": "code",
   "execution_count": 234,
   "id": "dd58bda6",
   "metadata": {},
   "outputs": [
    {
     "data": {
      "text/plain": [
       "array([1, 1, 1, 2, 1, 2, 1, 1, 2, 1, 1, 1, 1, 1, 1, 1, 1, 2, 1, 2, 1, 2,\n",
       "       1, 2, 1, 1, 1, 1, 1, 1, 1, 1, 1, 2, 2, 2, 2, 1, 1, 1, 1, 1, 2, 2,\n",
       "       1, 1, 1, 1, 1, 2, 2, 1, 1, 1, 2, 2, 2, 2, 1, 1, 1, 1, 1, 1, 2, 1,\n",
       "       1, 1, 1, 1, 1, 1, 2, 2, 2, 1, 1, 1, 1, 1, 1, 1, 2, 1, 1, 1, 1, 1],\n",
       "      dtype=int64)"
      ]
     },
     "execution_count": 234,
     "metadata": {},
     "output_type": "execute_result"
    }
   ],
   "source": [
    "outer_pipe.predict(X_test)"
   ]
  },
  {
   "cell_type": "markdown",
   "id": "f59a09d6",
   "metadata": {},
   "source": [
    "Transforming y_test"
   ]
  },
  {
   "cell_type": "code",
   "execution_count": 236,
   "id": "64834afe",
   "metadata": {},
   "outputs": [
    {
     "data": {
      "text/plain": [
       "424    2\n",
       "326    1\n",
       "229    1\n",
       "46     2\n",
       "177    1\n",
       "      ..\n",
       "366    1\n",
       "208    1\n",
       "390    1\n",
       "265    1\n",
       "133    1\n",
       "Name: Channel, Length: 88, dtype: int64"
      ]
     },
     "execution_count": 236,
     "metadata": {},
     "output_type": "execute_result"
    }
   ],
   "source": [
    "y_test"
   ]
  },
  {
   "cell_type": "code",
   "execution_count": null,
   "id": "c1cb3d74",
   "metadata": {},
   "outputs": [],
   "source": []
  },
  {
   "cell_type": "markdown",
   "id": "b34c719a",
   "metadata": {},
   "source": [
    "Display pipeline as diagram."
   ]
  },
  {
   "cell_type": "code",
   "execution_count": 237,
   "id": "d8805d28",
   "metadata": {},
   "outputs": [
    {
     "data": {
      "text/html": [
       "<style>div.sk-top-container {color: black;background-color: white;}div.sk-toggleable {background-color: white;}label.sk-toggleable__label {cursor: pointer;display: block;width: 100%;margin-bottom: 0;padding: 0.2em 0.3em;box-sizing: border-box;text-align: center;}div.sk-toggleable__content {max-height: 0;max-width: 0;overflow: hidden;text-align: left;background-color: #f0f8ff;}div.sk-toggleable__content pre {margin: 0.2em;color: black;border-radius: 0.25em;background-color: #f0f8ff;}input.sk-toggleable__control:checked~div.sk-toggleable__content {max-height: 200px;max-width: 100%;overflow: auto;}div.sk-estimator input.sk-toggleable__control:checked~label.sk-toggleable__label {background-color: #d4ebff;}div.sk-label input.sk-toggleable__control:checked~label.sk-toggleable__label {background-color: #d4ebff;}input.sk-hidden--visually {border: 0;clip: rect(1px 1px 1px 1px);clip: rect(1px, 1px, 1px, 1px);height: 1px;margin: -1px;overflow: hidden;padding: 0;position: absolute;width: 1px;}div.sk-estimator {font-family: monospace;background-color: #f0f8ff;margin: 0.25em 0.25em;border: 1px dotted black;border-radius: 0.25em;box-sizing: border-box;}div.sk-estimator:hover {background-color: #d4ebff;}div.sk-parallel-item::after {content: \"\";width: 100%;border-bottom: 1px solid gray;flex-grow: 1;}div.sk-label:hover label.sk-toggleable__label {background-color: #d4ebff;}div.sk-serial::before {content: \"\";position: absolute;border-left: 1px solid gray;box-sizing: border-box;top: 2em;bottom: 0;left: 50%;}div.sk-serial {display: flex;flex-direction: column;align-items: center;background-color: white;}div.sk-item {z-index: 1;}div.sk-parallel {display: flex;align-items: stretch;justify-content: center;background-color: white;}div.sk-parallel-item {display: flex;flex-direction: column;position: relative;background-color: white;}div.sk-parallel-item:first-child::after {align-self: flex-end;width: 50%;}div.sk-parallel-item:last-child::after {align-self: flex-start;width: 50%;}div.sk-parallel-item:only-child::after {width: 0;}div.sk-dashed-wrapped {border: 1px dashed gray;margin: 0.2em;box-sizing: border-box;padding-bottom: 0.1em;background-color: white;position: relative;}div.sk-label label {font-family: monospace;font-weight: bold;background-color: white;display: inline-block;line-height: 1.2em;}div.sk-label-container {position: relative;z-index: 2;text-align: center;}div.sk-container {display: inline-block;position: relative;}</style><div class=\"sk-top-container\"><div class=\"sk-container\"><div class=\"sk-item sk-dashed-wrapped\"><div class=\"sk-label-container\"><div class=\"sk-label sk-toggleable\"><input class=\"sk-toggleable__control sk-hidden--visually\" id=\"2678b3f7-f02d-4e2a-b4d7-5aaa0a9f89bd\" type=\"checkbox\" ><label class=\"sk-toggleable__label\" for=\"2678b3f7-f02d-4e2a-b4d7-5aaa0a9f89bd\">Pipeline</label><div class=\"sk-toggleable__content\"><pre>Pipeline(steps=[('ct',\n",
       "                 ColumnTransformer(transformers=[('p_mf',\n",
       "                                                  Pipeline(steps=[('mf',\n",
       "                                                                   SimpleImputer(strategy='most_frequent')),\n",
       "                                                                  ('ohe',\n",
       "                                                                   OneHotEncoder())]),\n",
       "                                                  ['Region']),\n",
       "                                                 ('p_med',\n",
       "                                                  Pipeline(steps=[('sm',\n",
       "                                                                   SimpleImputer(strategy='median')),\n",
       "                                                                  ('ss2',\n",
       "                                                                   StandardScaler())]),\n",
       "                                                  ['Fresh', 'Milk', 'Grocery',\n",
       "                                                   'Frozen', 'Detergents_Paper',\n",
       "                                                   'Delicassen', 'Perishable_P',\n",
       "                                                   'Non_Perishable_P'])])),\n",
       "                ('dt', DecisionTreeClassifier())])</pre></div></div></div><div class=\"sk-serial\"><div class=\"sk-item sk-dashed-wrapped\"><div class=\"sk-label-container\"><div class=\"sk-label sk-toggleable\"><input class=\"sk-toggleable__control sk-hidden--visually\" id=\"01669e42-00de-4782-ace6-fa8ffd6b6a5e\" type=\"checkbox\" ><label class=\"sk-toggleable__label\" for=\"01669e42-00de-4782-ace6-fa8ffd6b6a5e\">ct: ColumnTransformer</label><div class=\"sk-toggleable__content\"><pre>ColumnTransformer(transformers=[('p_mf',\n",
       "                                 Pipeline(steps=[('mf',\n",
       "                                                  SimpleImputer(strategy='most_frequent')),\n",
       "                                                 ('ohe', OneHotEncoder())]),\n",
       "                                 ['Region']),\n",
       "                                ('p_med',\n",
       "                                 Pipeline(steps=[('sm',\n",
       "                                                  SimpleImputer(strategy='median')),\n",
       "                                                 ('ss2', StandardScaler())]),\n",
       "                                 ['Fresh', 'Milk', 'Grocery', 'Frozen',\n",
       "                                  'Detergents_Paper', 'Delicassen',\n",
       "                                  'Perishable_P', 'Non_Perishable_P'])])</pre></div></div></div><div class=\"sk-parallel\"><div class=\"sk-parallel-item\"><div class=\"sk-item\"><div class=\"sk-label-container\"><div class=\"sk-label sk-toggleable\"><input class=\"sk-toggleable__control sk-hidden--visually\" id=\"0daa6f75-4c4d-460d-9c28-06fdc275141f\" type=\"checkbox\" ><label class=\"sk-toggleable__label\" for=\"0daa6f75-4c4d-460d-9c28-06fdc275141f\">p_mf</label><div class=\"sk-toggleable__content\"><pre>['Region']</pre></div></div></div><div class=\"sk-serial\"><div class=\"sk-item\"><div class=\"sk-serial\"><div class=\"sk-item\"><div class=\"sk-estimator sk-toggleable\"><input class=\"sk-toggleable__control sk-hidden--visually\" id=\"fc697aad-6f87-47c9-8ae7-4f5772676342\" type=\"checkbox\" ><label class=\"sk-toggleable__label\" for=\"fc697aad-6f87-47c9-8ae7-4f5772676342\">SimpleImputer</label><div class=\"sk-toggleable__content\"><pre>SimpleImputer(strategy='most_frequent')</pre></div></div></div><div class=\"sk-item\"><div class=\"sk-estimator sk-toggleable\"><input class=\"sk-toggleable__control sk-hidden--visually\" id=\"edd549a7-c9bf-4dbb-8d20-70608198280c\" type=\"checkbox\" ><label class=\"sk-toggleable__label\" for=\"edd549a7-c9bf-4dbb-8d20-70608198280c\">OneHotEncoder</label><div class=\"sk-toggleable__content\"><pre>OneHotEncoder()</pre></div></div></div></div></div></div></div></div><div class=\"sk-parallel-item\"><div class=\"sk-item\"><div class=\"sk-label-container\"><div class=\"sk-label sk-toggleable\"><input class=\"sk-toggleable__control sk-hidden--visually\" id=\"885f2ef6-0c72-4790-bd0e-98486ae31e5a\" type=\"checkbox\" ><label class=\"sk-toggleable__label\" for=\"885f2ef6-0c72-4790-bd0e-98486ae31e5a\">p_med</label><div class=\"sk-toggleable__content\"><pre>['Fresh', 'Milk', 'Grocery', 'Frozen', 'Detergents_Paper', 'Delicassen', 'Perishable_P', 'Non_Perishable_P']</pre></div></div></div><div class=\"sk-serial\"><div class=\"sk-item\"><div class=\"sk-serial\"><div class=\"sk-item\"><div class=\"sk-estimator sk-toggleable\"><input class=\"sk-toggleable__control sk-hidden--visually\" id=\"e0efea01-68e0-4cd6-b378-5d648bc234d3\" type=\"checkbox\" ><label class=\"sk-toggleable__label\" for=\"e0efea01-68e0-4cd6-b378-5d648bc234d3\">SimpleImputer</label><div class=\"sk-toggleable__content\"><pre>SimpleImputer(strategy='median')</pre></div></div></div><div class=\"sk-item\"><div class=\"sk-estimator sk-toggleable\"><input class=\"sk-toggleable__control sk-hidden--visually\" id=\"2e137c5c-ef68-48a6-8c09-9d02d146ff57\" type=\"checkbox\" ><label class=\"sk-toggleable__label\" for=\"2e137c5c-ef68-48a6-8c09-9d02d146ff57\">StandardScaler</label><div class=\"sk-toggleable__content\"><pre>StandardScaler()</pre></div></div></div></div></div></div></div></div></div></div><div class=\"sk-item\"><div class=\"sk-estimator sk-toggleable\"><input class=\"sk-toggleable__control sk-hidden--visually\" id=\"fa6283c6-d7e1-4644-8238-a1dc5474b1e7\" type=\"checkbox\" ><label class=\"sk-toggleable__label\" for=\"fa6283c6-d7e1-4644-8238-a1dc5474b1e7\">DecisionTreeClassifier</label><div class=\"sk-toggleable__content\"><pre>DecisionTreeClassifier()</pre></div></div></div></div></div></div></div>"
      ],
      "text/plain": [
       "Pipeline(steps=[('ct',\n",
       "                 ColumnTransformer(transformers=[('p_mf',\n",
       "                                                  Pipeline(steps=[('mf',\n",
       "                                                                   SimpleImputer(strategy='most_frequent')),\n",
       "                                                                  ('ohe',\n",
       "                                                                   OneHotEncoder())]),\n",
       "                                                  ['Region']),\n",
       "                                                 ('p_med',\n",
       "                                                  Pipeline(steps=[('sm',\n",
       "                                                                   SimpleImputer(strategy='median')),\n",
       "                                                                  ('ss2',\n",
       "                                                                   StandardScaler())]),\n",
       "                                                  ['Fresh', 'Milk', 'Grocery',\n",
       "                                                   'Frozen', 'Detergents_Paper',\n",
       "                                                   'Delicassen', 'Perishable_P',\n",
       "                                                   'Non_Perishable_P'])])),\n",
       "                ('dt', DecisionTreeClassifier())])"
      ]
     },
     "execution_count": 237,
     "metadata": {},
     "output_type": "execute_result"
    }
   ],
   "source": [
    "from sklearn import set_config\n",
    "set_config(display='diagram')\n",
    "outer_pipe"
   ]
  },
  {
   "cell_type": "markdown",
   "id": "25d4997e",
   "metadata": {},
   "source": [
    "Pipeline as text."
   ]
  },
  {
   "cell_type": "code",
   "execution_count": 238,
   "id": "3ae7cd5f",
   "metadata": {},
   "outputs": [
    {
     "data": {
      "text/plain": [
       "Pipeline(steps=[('ct',\n",
       "                 ColumnTransformer(transformers=[('p_mf',\n",
       "                                                  Pipeline(steps=[('mf',\n",
       "                                                                   SimpleImputer(strategy='most_frequent')),\n",
       "                                                                  ('ohe',\n",
       "                                                                   OneHotEncoder())]),\n",
       "                                                  ['Region']),\n",
       "                                                 ('p_med',\n",
       "                                                  Pipeline(steps=[('sm',\n",
       "                                                                   SimpleImputer(strategy='median')),\n",
       "                                                                  ('ss2',\n",
       "                                                                   StandardScaler())]),\n",
       "                                                  ['Fresh', 'Milk', 'Grocery',\n",
       "                                                   'Frozen', 'Detergents_Paper',\n",
       "                                                   'Delicassen', 'Perishable_P',\n",
       "                                                   'Non_Perishable_P'])])),\n",
       "                ('dt', DecisionTreeClassifier())])"
      ]
     },
     "execution_count": 238,
     "metadata": {},
     "output_type": "execute_result"
    }
   ],
   "source": [
    "set_config(display='text')\n",
    "outer_pipe"
   ]
  },
  {
   "cell_type": "markdown",
   "id": "bad2e4b7",
   "metadata": {},
   "source": [
    "# Cross Validation"
   ]
  },
  {
   "cell_type": "code",
   "execution_count": 239,
   "id": "284a6839",
   "metadata": {},
   "outputs": [],
   "source": [
    "from sklearn.model_selection import cross_val_score\n"
   ]
  },
  {
   "cell_type": "code",
   "execution_count": 240,
   "id": "4406a48a",
   "metadata": {},
   "outputs": [],
   "source": [
    "from skopt import BayesSearchCV"
   ]
  },
  {
   "cell_type": "code",
   "execution_count": 242,
   "id": "fd6256f5",
   "metadata": {},
   "outputs": [],
   "source": [
    "from skopt.space import Real, Categorical, Integer"
   ]
  },
  {
   "cell_type": "markdown",
   "id": "08011fdd",
   "metadata": {},
   "source": [
    "We will be using StratifiedKFold in order to get equal proportion of data variety in both train dataset and test dataset."
   ]
  },
  {
   "cell_type": "code",
   "execution_count": 244,
   "id": "b602f11d",
   "metadata": {},
   "outputs": [],
   "source": [
    "cvStrategy = StratifiedKFold(\n",
    "                             n_splits=3,\n",
    "                             shuffle=True,\n",
    "                             random_state=42\n",
    "                            )"
   ]
  },
  {
   "cell_type": "code",
   "execution_count": 245,
   "id": "65e2a9f6",
   "metadata": {},
   "outputs": [],
   "source": [
    "from sklearn.linear_model import LogisticRegression\n",
    "from sklearn.svm import SVC\n",
    "from sklearn.neighbors import KNeighborsClassifier\n",
    "from sklearn.ensemble import RandomForestClassifier"
   ]
  },
  {
   "cell_type": "markdown",
   "id": "6831af6c",
   "metadata": {},
   "source": [
    "The list of models that we will be using as follows:"
   ]
  },
  {
   "cell_type": "code",
   "execution_count": 246,
   "id": "d7ebff67",
   "metadata": {},
   "outputs": [],
   "source": [
    "models = [LogisticRegression(max_iter=1000), SVC(kernel='linear'), KNeighborsClassifier(), RandomForestClassifier()]"
   ]
  },
  {
   "cell_type": "code",
   "execution_count": 247,
   "id": "f776c652",
   "metadata": {},
   "outputs": [],
   "source": [
    "def compare_models_train_test():\n",
    "\n",
    "  for model in models:\n",
    "\n",
    "    # training the model\n",
    "    model.fit(X_train, y_train)\n",
    "    \n",
    "    # evaluating the model\n",
    "    test_data_prediction = model.predict(X_test)\n",
    "\n",
    "    accuracy = accuracy_score(y_test, test_data_prediction)\n",
    "\n",
    "    print('Accuracy score of the ', model, ' = ', accuracy)"
   ]
  },
  {
   "cell_type": "code",
   "execution_count": 248,
   "id": "6f1571d4",
   "metadata": {},
   "outputs": [
    {
     "name": "stdout",
     "output_type": "stream",
     "text": [
      "Accuracy score of the  LogisticRegression(max_iter=1000)  =  0.9204545454545454\n",
      "Accuracy score of the  SVC(kernel='linear')  =  0.8977272727272727\n",
      "Accuracy score of the  KNeighborsClassifier()  =  0.9090909090909091\n",
      "Accuracy score of the  RandomForestClassifier()  =  0.9431818181818182\n"
     ]
    }
   ],
   "source": [
    "compare_models_train_test()"
   ]
  },
  {
   "cell_type": "markdown",
   "id": "53169128",
   "metadata": {},
   "source": [
    "Applying cross validation in LogisticRegression model and comparing the average accuracy we get with the cv and without the cv. We can see that without cv the accuracy was 92.04% and with cv the accuracy becomes 88.18%. "
   ]
  },
  {
   "cell_type": "code",
   "execution_count": 249,
   "id": "f11b9cb1",
   "metadata": {},
   "outputs": [
    {
     "name": "stdout",
     "output_type": "stream",
     "text": [
      "[0.86363636 0.93181818 0.79545455 0.93181818 0.88636364]\n",
      "88.18\n"
     ]
    }
   ],
   "source": [
    "cv_score_lr = cross_val_score(LogisticRegression(max_iter=1000), X, y, cv=5)\n",
    "\n",
    "print(cv_score_lr)\n",
    "\n",
    "mean_accuracy_lr = sum(cv_score_lr)/len(cv_score_lr)\n",
    "\n",
    "mean_accuracy_lr = mean_accuracy_lr*100\n",
    "\n",
    "mean_accuracy_lr = round(mean_accuracy_lr, 2)\n",
    "\n",
    "print(mean_accuracy_lr)"
   ]
  },
  {
   "cell_type": "markdown",
   "id": "395d259c",
   "metadata": {},
   "source": [
    "Likewise we have defined a function to get the average accuracy for all other models and we have taken cv as 5 for all the models. "
   ]
  },
  {
   "cell_type": "code",
   "execution_count": 250,
   "id": "b2c54c0e",
   "metadata": {},
   "outputs": [],
   "source": [
    "def compare_models_cross_validation():\n",
    "\n",
    "  for model in models:\n",
    "\n",
    "    cv_score = cross_val_score(model, X,y, cv=5)\n",
    "    \n",
    "    mean_accuracy = sum(cv_score)/len(cv_score)\n",
    "\n",
    "    mean_accuracy = mean_accuracy*100\n",
    "\n",
    "    mean_accuracy = round(mean_accuracy, 2)\n",
    "\n",
    "    print('Cross Validation accuracies for ', model, '=  ', cv_score)\n",
    "    print('Accuracy % of the ', model, mean_accuracy)\n",
    "    print('----------------------------------------------')\n"
   ]
  },
  {
   "cell_type": "markdown",
   "id": "de576a98",
   "metadata": {},
   "source": [
    "Now comparing the accuracy of all the models without cross validation and with cross validation. Without cv RandomForestClassifier performed the best and even with cv RandomForestClassifier performed the best but the accuracy of the same decreased from 94.31% to 92.73%."
   ]
  },
  {
   "cell_type": "code",
   "execution_count": 251,
   "id": "df354982",
   "metadata": {},
   "outputs": [
    {
     "name": "stdout",
     "output_type": "stream",
     "text": [
      "Cross Validation accuracies for  LogisticRegression(max_iter=1000) =   [0.86363636 0.93181818 0.79545455 0.93181818 0.88636364]\n",
      "Accuracy % of the  LogisticRegression(max_iter=1000) 88.18\n",
      "----------------------------------------------\n",
      "Cross Validation accuracies for  SVC(kernel='linear') =   [0.84090909 0.93181818 0.875      0.90909091 0.875     ]\n",
      "Accuracy % of the  SVC(kernel='linear') 88.64\n",
      "----------------------------------------------\n",
      "Cross Validation accuracies for  KNeighborsClassifier() =   [0.89772727 0.88636364 0.89772727 0.92045455 0.85227273]\n",
      "Accuracy % of the  KNeighborsClassifier() 89.09\n",
      "----------------------------------------------\n",
      "Cross Validation accuracies for  RandomForestClassifier() =   [0.90909091 0.92045455 0.94318182 0.95454545 0.90909091]\n",
      "Accuracy % of the  RandomForestClassifier() 92.73\n",
      "----------------------------------------------\n"
     ]
    }
   ],
   "source": [
    "compare_models_cross_validation()"
   ]
  },
  {
   "cell_type": "markdown",
   "id": "1f069995",
   "metadata": {},
   "source": [
    "# Hyperparameter Tuning"
   ]
  },
  {
   "cell_type": "code",
   "execution_count": 87,
   "id": "ec41f4fa",
   "metadata": {},
   "outputs": [],
   "source": [
    "from sklearn.svm import SVC\n",
    "from sklearn.model_selection import GridSearchCV\n",
    "from sklearn.model_selection import RandomizedSearchCV"
   ]
  },
  {
   "cell_type": "markdown",
   "id": "b22b103b",
   "metadata": {},
   "source": [
    "GridSearchCV is used for determining the best parameters for our model"
   ]
  },
  {
   "cell_type": "markdown",
   "id": "6f28d56f",
   "metadata": {},
   "source": [
    "Loading SVC(Super Vector Classifier) model."
   ]
  },
  {
   "cell_type": "code",
   "execution_count": 88,
   "id": "62cc401e",
   "metadata": {},
   "outputs": [],
   "source": [
    "model = SVC()"
   ]
  },
  {
   "cell_type": "markdown",
   "id": "352cbe76",
   "metadata": {},
   "source": [
    "Hyperparameters"
   ]
  },
  {
   "cell_type": "code",
   "execution_count": 89,
   "id": "71805e06",
   "metadata": {},
   "outputs": [],
   "source": [
    "parameters = {\n",
    "              'kernel':['linear','poly','rbf','sigmoid'],\n",
    "              'C':[1, 5, 10, 20]\n",
    "}"
   ]
  },
  {
   "cell_type": "markdown",
   "id": "ae8e28b6",
   "metadata": {},
   "source": [
    "GridSearch"
   ]
  },
  {
   "cell_type": "code",
   "execution_count": 90,
   "id": "c8dffcc5",
   "metadata": {},
   "outputs": [],
   "source": [
    "classifier = GridSearchCV(model, parameters, cv=5)"
   ]
  },
  {
   "cell_type": "markdown",
   "id": "9ae0c7b4",
   "metadata": {},
   "source": [
    "Fitting data to our model."
   ]
  },
  {
   "cell_type": "code",
   "execution_count": 91,
   "id": "d050aff0",
   "metadata": {},
   "outputs": [
    {
     "data": {
      "text/plain": [
       "GridSearchCV(cv=5, estimator=SVC(),\n",
       "             param_grid={'C': [1, 5, 10, 20],\n",
       "                         'kernel': ['linear', 'poly', 'rbf', 'sigmoid']})"
      ]
     },
     "execution_count": 91,
     "metadata": {},
     "output_type": "execute_result"
    }
   ],
   "source": [
    "classifier.fit(X, y)"
   ]
  },
  {
   "cell_type": "code",
   "execution_count": 92,
   "id": "80ab366d",
   "metadata": {},
   "outputs": [
    {
     "data": {
      "text/plain": [
       "{'mean_fit_time': array([6.38423444e+01, 3.43246460e-03, 2.90827751e-03, 3.12423706e-03,\n",
       "        5.64799142e+01, 3.93648148e-03, 8.65793228e-03, 3.12418938e-03,\n",
       "        9.01138692e+01, 3.12428474e-03, 3.12452316e-03, 6.25648499e-03,\n",
       "        5.72319026e+01, 6.24885559e-03, 3.12442780e-03, 3.21588516e-03]),\n",
       " 'std_fit_time': array([2.22392888e+01, 6.12187531e-03, 5.81655502e-03, 6.24847412e-03,\n",
       "        1.02309116e+01, 7.87296295e-03, 7.18914795e-03, 6.24837875e-03,\n",
       "        7.78295354e+01, 6.24856949e-03, 6.24904633e-03, 7.66260476e-03,\n",
       "        2.15762833e+01, 7.65325443e-03, 6.24885559e-03, 5.25422940e-03]),\n",
       " 'mean_score_time': array([0.00079613, 0.00312648, 0.00313144, 0.00311799, 0.00020018,\n",
       "        0.00312324, 0.        , 0.        , 0.00040498, 0.00312233,\n",
       "        0.00321908, 0.        , 0.        , 0.00312281, 0.00312414,\n",
       "        0.        ]),\n",
       " 'std_score_time': array([0.00097506, 0.00625296, 0.00626287, 0.00623598, 0.00040035,\n",
       "        0.00624647, 0.        , 0.        , 0.00080996, 0.00624466,\n",
       "        0.00437663, 0.        , 0.        , 0.00624561, 0.00624828,\n",
       "        0.        ]),\n",
       " 'param_C': masked_array(data=[1, 1, 1, 1, 5, 5, 5, 5, 10, 10, 10, 10, 20, 20, 20, 20],\n",
       "              mask=[False, False, False, False, False, False, False, False,\n",
       "                    False, False, False, False, False, False, False, False],\n",
       "        fill_value='?',\n",
       "             dtype=object),\n",
       " 'param_kernel': masked_array(data=['linear', 'poly', 'rbf', 'sigmoid', 'linear', 'poly',\n",
       "                    'rbf', 'sigmoid', 'linear', 'poly', 'rbf', 'sigmoid',\n",
       "                    'linear', 'poly', 'rbf', 'sigmoid'],\n",
       "              mask=[False, False, False, False, False, False, False, False,\n",
       "                    False, False, False, False, False, False, False, False],\n",
       "        fill_value='?',\n",
       "             dtype=object),\n",
       " 'params': [{'C': 1, 'kernel': 'linear'},\n",
       "  {'C': 1, 'kernel': 'poly'},\n",
       "  {'C': 1, 'kernel': 'rbf'},\n",
       "  {'C': 1, 'kernel': 'sigmoid'},\n",
       "  {'C': 5, 'kernel': 'linear'},\n",
       "  {'C': 5, 'kernel': 'poly'},\n",
       "  {'C': 5, 'kernel': 'rbf'},\n",
       "  {'C': 5, 'kernel': 'sigmoid'},\n",
       "  {'C': 10, 'kernel': 'linear'},\n",
       "  {'C': 10, 'kernel': 'poly'},\n",
       "  {'C': 10, 'kernel': 'rbf'},\n",
       "  {'C': 10, 'kernel': 'sigmoid'},\n",
       "  {'C': 20, 'kernel': 'linear'},\n",
       "  {'C': 20, 'kernel': 'poly'},\n",
       "  {'C': 20, 'kernel': 'rbf'},\n",
       "  {'C': 20, 'kernel': 'sigmoid'}],\n",
       " 'split0_test_score': array([0.84090909, 0.85227273, 0.875     , 0.77272727, 0.84090909,\n",
       "        0.89772727, 0.88636364, 0.70454545, 0.84090909, 0.89772727,\n",
       "        0.89772727, 0.69318182, 0.84090909, 0.89772727, 0.88636364,\n",
       "        0.68181818]),\n",
       " 'split1_test_score': array([0.93181818, 0.875     , 0.875     , 0.73863636, 0.93181818,\n",
       "        0.89772727, 0.875     , 0.73863636, 0.92045455, 0.89772727,\n",
       "        0.875     , 0.73863636, 0.93181818, 0.92045455, 0.875     ,\n",
       "        0.73863636]),\n",
       " 'split2_test_score': array([0.875     , 0.88636364, 0.92045455, 0.80681818, 0.86363636,\n",
       "        0.90909091, 0.94318182, 0.73863636, 0.86363636, 0.94318182,\n",
       "        0.95454545, 0.73863636, 0.86363636, 0.95454545, 0.95454545,\n",
       "        0.71590909]),\n",
       " 'split3_test_score': array([0.90909091, 0.875     , 0.92045455, 0.84090909, 0.90909091,\n",
       "        0.93181818, 0.95454545, 0.79545455, 0.90909091, 0.93181818,\n",
       "        0.95454545, 0.76136364, 0.90909091, 0.94318182, 0.96590909,\n",
       "        0.72727273]),\n",
       " 'split4_test_score': array([0.875     , 0.84090909, 0.85227273, 0.79545455, 0.875     ,\n",
       "        0.89772727, 0.875     , 0.77272727, 0.875     , 0.88636364,\n",
       "        0.875     , 0.77272727, 0.875     , 0.88636364, 0.88636364,\n",
       "        0.77272727]),\n",
       " 'mean_test_score': array([0.88636364, 0.86590909, 0.88863636, 0.79090909, 0.88409091,\n",
       "        0.90681818, 0.90681818, 0.75      , 0.88181818, 0.91136364,\n",
       "        0.91136364, 0.74090909, 0.88409091, 0.92045455, 0.91363636,\n",
       "        0.72727273]),\n",
       " 'std_test_score': array([0.03132738, 0.01670107, 0.02727273, 0.03416658, 0.03246104,\n",
       "        0.01325216, 0.03476604, 0.03132738, 0.02928204, 0.02203491,\n",
       "        0.03622131, 0.02727273, 0.03246104, 0.02591308, 0.03843531,\n",
       "        0.02963274]),\n",
       " 'rank_test_score': array([ 8, 12,  7, 13,  9,  5,  5, 14, 11,  3,  3, 15,  9,  1,  2, 16])}"
      ]
     },
     "execution_count": 92,
     "metadata": {},
     "output_type": "execute_result"
    }
   ],
   "source": [
    "classifier.cv_results_"
   ]
  },
  {
   "cell_type": "markdown",
   "id": "f070e3c5",
   "metadata": {},
   "source": [
    "Looking for the parameters that performed the best."
   ]
  },
  {
   "cell_type": "code",
   "execution_count": 93,
   "id": "702c0a47",
   "metadata": {},
   "outputs": [
    {
     "name": "stdout",
     "output_type": "stream",
     "text": [
      "{'C': 20, 'kernel': 'poly'}\n"
     ]
    }
   ],
   "source": [
    "best_parameters = classifier.best_params_\n",
    "print(best_parameters)"
   ]
  },
  {
   "cell_type": "markdown",
   "id": "76ab5ac0",
   "metadata": {},
   "source": [
    "Checking the highest accuracy that we got from the best parameters in GridSearchCV.."
   ]
  },
  {
   "cell_type": "code",
   "execution_count": 94,
   "id": "f2921924",
   "metadata": {},
   "outputs": [
    {
     "name": "stdout",
     "output_type": "stream",
     "text": [
      "0.9204545454545455\n"
     ]
    }
   ],
   "source": [
    "highest_accuracy = classifier.best_score_\n",
    "print(highest_accuracy)"
   ]
  },
  {
   "cell_type": "markdown",
   "id": "7ad18135",
   "metadata": {},
   "source": [
    "RandomizedSearchCV"
   ]
  },
  {
   "cell_type": "markdown",
   "id": "102828e0",
   "metadata": {},
   "source": [
    "Loading SVC(Super Vector Classifier) model."
   ]
  },
  {
   "cell_type": "code",
   "execution_count": 95,
   "id": "604af074",
   "metadata": {},
   "outputs": [],
   "source": [
    "model = SVC()"
   ]
  },
  {
   "cell_type": "markdown",
   "id": "bf56c33d",
   "metadata": {},
   "source": [
    "Hyperparameters"
   ]
  },
  {
   "cell_type": "code",
   "execution_count": 96,
   "id": "5044c070",
   "metadata": {},
   "outputs": [],
   "source": [
    "parameters = {\n",
    "              'kernel':['linear','poly','rbf','sigmoid'],\n",
    "              'C':[1, 5, 10, 20]\n",
    "}"
   ]
  },
  {
   "cell_type": "markdown",
   "id": "057c9a2d",
   "metadata": {},
   "source": [
    "RandomizedSearch"
   ]
  },
  {
   "cell_type": "code",
   "execution_count": 97,
   "id": "69ce5997",
   "metadata": {},
   "outputs": [],
   "source": [
    "classifier = RandomizedSearchCV(model, parameters, cv=5)"
   ]
  },
  {
   "cell_type": "markdown",
   "id": "3b83aa1a",
   "metadata": {},
   "source": [
    "Fitting the data to our model."
   ]
  },
  {
   "cell_type": "code",
   "execution_count": 98,
   "id": "a870aeef",
   "metadata": {},
   "outputs": [
    {
     "data": {
      "text/plain": [
       "RandomizedSearchCV(cv=5, estimator=SVC(),\n",
       "                   param_distributions={'C': [1, 5, 10, 20],\n",
       "                                        'kernel': ['linear', 'poly', 'rbf',\n",
       "                                                   'sigmoid']})"
      ]
     },
     "execution_count": 98,
     "metadata": {},
     "output_type": "execute_result"
    }
   ],
   "source": [
    "classifier.fit(X, y)"
   ]
  },
  {
   "cell_type": "code",
   "execution_count": 99,
   "id": "55f6002d",
   "metadata": {},
   "outputs": [
    {
     "data": {
      "text/plain": [
       "{'mean_fit_time': array([4.19802666e-03, 3.59263420e-03, 5.91551264e+01, 4.58641052e-03,\n",
       "        9.27152972e+01, 3.98874283e-03, 4.18791771e-03, 5.59998995e+01,\n",
       "        4.78830338e-03, 5.99088669e-03]),\n",
       " 'std_fit_time': array([4.05910369e-04, 1.94841545e-03, 2.62019921e+01, 4.88698988e-04,\n",
       "        8.26471679e+01, 6.30524895e-04, 3.99065089e-04, 9.18637808e+00,\n",
       "        7.46909368e-04, 6.43729150e-04]),\n",
       " 'mean_score_time': array([0.0029933 , 0.00119467, 0.00079732, 0.0021965 , 0.00218301,\n",
       "        0.00139675, 0.00219541, 0.00179291, 0.00199294, 0.00180135]),\n",
       " 'std_score_time': array([1.09175440e-03, 9.75447051e-04, 9.76513353e-04, 3.97506865e-04,\n",
       "        3.83377443e-04, 4.88441518e-04, 3.99090693e-04, 3.98057536e-04,\n",
       "        4.17334680e-06, 7.45856949e-04]),\n",
       " 'param_kernel': masked_array(data=['rbf', 'poly', 'linear', 'rbf', 'linear', 'sigmoid',\n",
       "                    'rbf', 'linear', 'sigmoid', 'poly'],\n",
       "              mask=[False, False, False, False, False, False, False, False,\n",
       "                    False, False],\n",
       "        fill_value='?',\n",
       "             dtype=object),\n",
       " 'param_C': masked_array(data=[1, 1, 20, 10, 10, 20, 20, 5, 1, 5],\n",
       "              mask=[False, False, False, False, False, False, False, False,\n",
       "                    False, False],\n",
       "        fill_value='?',\n",
       "             dtype=object),\n",
       " 'params': [{'kernel': 'rbf', 'C': 1},\n",
       "  {'kernel': 'poly', 'C': 1},\n",
       "  {'kernel': 'linear', 'C': 20},\n",
       "  {'kernel': 'rbf', 'C': 10},\n",
       "  {'kernel': 'linear', 'C': 10},\n",
       "  {'kernel': 'sigmoid', 'C': 20},\n",
       "  {'kernel': 'rbf', 'C': 20},\n",
       "  {'kernel': 'linear', 'C': 5},\n",
       "  {'kernel': 'sigmoid', 'C': 1},\n",
       "  {'kernel': 'poly', 'C': 5}],\n",
       " 'split0_test_score': array([0.875     , 0.85227273, 0.84090909, 0.89772727, 0.84090909,\n",
       "        0.68181818, 0.88636364, 0.84090909, 0.77272727, 0.89772727]),\n",
       " 'split1_test_score': array([0.875     , 0.875     , 0.93181818, 0.875     , 0.92045455,\n",
       "        0.73863636, 0.875     , 0.93181818, 0.73863636, 0.89772727]),\n",
       " 'split2_test_score': array([0.92045455, 0.88636364, 0.86363636, 0.95454545, 0.86363636,\n",
       "        0.71590909, 0.95454545, 0.86363636, 0.80681818, 0.90909091]),\n",
       " 'split3_test_score': array([0.92045455, 0.875     , 0.90909091, 0.95454545, 0.90909091,\n",
       "        0.72727273, 0.96590909, 0.90909091, 0.84090909, 0.93181818]),\n",
       " 'split4_test_score': array([0.85227273, 0.84090909, 0.875     , 0.875     , 0.875     ,\n",
       "        0.77272727, 0.88636364, 0.875     , 0.79545455, 0.89772727]),\n",
       " 'mean_test_score': array([0.88863636, 0.86590909, 0.88409091, 0.91136364, 0.88181818,\n",
       "        0.72727273, 0.91363636, 0.88409091, 0.79090909, 0.90681818]),\n",
       " 'std_test_score': array([0.02727273, 0.01670107, 0.03246104, 0.03622131, 0.02928204,\n",
       "        0.02963274, 0.03843531, 0.03246104, 0.03416658, 0.01325216]),\n",
       " 'rank_test_score': array([ 4,  8,  5,  2,  7, 10,  1,  5,  9,  3])}"
      ]
     },
     "execution_count": 99,
     "metadata": {},
     "output_type": "execute_result"
    }
   ],
   "source": [
    "classifier.cv_results_"
   ]
  },
  {
   "cell_type": "markdown",
   "id": "79314f92",
   "metadata": {},
   "source": [
    "Looking for the parameters that performed the best."
   ]
  },
  {
   "cell_type": "code",
   "execution_count": 100,
   "id": "1efc7ef5",
   "metadata": {
    "scrolled": true
   },
   "outputs": [
    {
     "name": "stdout",
     "output_type": "stream",
     "text": [
      "{'kernel': 'rbf', 'C': 20}\n"
     ]
    }
   ],
   "source": [
    "best_parameters = classifier.best_params_\n",
    "print(best_parameters)"
   ]
  },
  {
   "cell_type": "markdown",
   "id": "6c6f2e33",
   "metadata": {},
   "source": [
    "Checking the highest accuracy that we got from the best parameters in RandomizedSearchCV."
   ]
  },
  {
   "cell_type": "code",
   "execution_count": 101,
   "id": "cdcbd28e",
   "metadata": {},
   "outputs": [
    {
     "name": "stdout",
     "output_type": "stream",
     "text": [
      "0.9136363636363637\n"
     ]
    }
   ],
   "source": [
    "highest_accuracy = classifier.best_score_\n",
    "print(highest_accuracy)"
   ]
  },
  {
   "cell_type": "markdown",
   "id": "26e23f56",
   "metadata": {},
   "source": [
    "Therefore, it can definately be concluded that using RandomizedSearchCV on big dataset is better as it saves alot of time without hampering much of the accuracy. "
   ]
  }
 ],
 "metadata": {
  "kernelspec": {
   "display_name": "Python 3",
   "language": "python",
   "name": "python3"
  },
  "language_info": {
   "codemirror_mode": {
    "name": "ipython",
    "version": 3
   },
   "file_extension": ".py",
   "mimetype": "text/x-python",
   "name": "python",
   "nbconvert_exporter": "python",
   "pygments_lexer": "ipython3",
   "version": "3.8.8"
  }
 },
 "nbformat": 4,
 "nbformat_minor": 5
}
